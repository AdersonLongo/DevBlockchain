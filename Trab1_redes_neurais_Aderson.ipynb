{
  "nbformat": 4,
  "nbformat_minor": 0,
  "metadata": {
    "colab": {
      "provenance": [],
      "authorship_tag": "ABX9TyPS2OI6EtCDV6dDa3LHQ3gL",
      "include_colab_link": true
    },
    "kernelspec": {
      "name": "python3",
      "display_name": "Python 3"
    },
    "language_info": {
      "name": "python"
    }
  },
  "cells": [
    {
      "cell_type": "markdown",
      "metadata": {
        "id": "view-in-github",
        "colab_type": "text"
      },
      "source": [
        "<a href=\"https://colab.research.google.com/github/AdersonLongo/DevBlockchain/blob/main/Trab1_redes_neurais_Aderson.ipynb\" target=\"_parent\"><img src=\"https://colab.research.google.com/assets/colab-badge.svg\" alt=\"Open In Colab\"/></a>"
      ]
    },
    {
      "cell_type": "code",
      "source": [
        "import numpy as np\n",
        "\n",
        "dic_entrada = {'qtde_entrada': 2, 'qtde_saida': 1 }\n",
        "peso_ent_camada_oculta = []\n",
        "peso_ent_camada_oculta = []\n",
        "\n"
      ],
      "metadata": {
        "id": "deOFcVM0HTCv"
      },
      "execution_count": 1,
      "outputs": []
    },
    {
      "cell_type": "code",
      "source": [
        "type(peso_ent_camada_oculta)\n",
        "\n"
      ],
      "metadata": {
        "colab": {
          "base_uri": "https://localhost:8080/"
        },
        "id": "Npy9ld6j7Hhf",
        "outputId": "ef8a7d08-1c91-490d-e560-dac6583e8ccb"
      },
      "execution_count": null,
      "outputs": [
        {
          "output_type": "execute_result",
          "data": {
            "text/plain": [
              "list"
            ]
          },
          "metadata": {},
          "execution_count": 28
        }
      ]
    },
    {
      "cell_type": "code",
      "source": [
        "X = [[0,0],[0,1],[1,0],[1,1]]\n",
        "ent_log = [[False,False],[False,True],[True,False],[True,True]]\n",
        "y = [0, 1, 1, 0]"
      ],
      "metadata": {
        "id": "F7uphEOCNtGO"
      },
      "execution_count": null,
      "outputs": []
    },
    {
      "cell_type": "code",
      "source": [
        "ent_log"
      ],
      "metadata": {
        "colab": {
          "base_uri": "https://localhost:8080/"
        },
        "id": "eXZGKrUKT_NV",
        "outputId": "ccac6c79-844f-4e6f-8d54-7d18a9bf6372"
      },
      "execution_count": null,
      "outputs": [
        {
          "output_type": "execute_result",
          "data": {
            "text/plain": [
              "[[False, False], [False, True], [True, False], [True, True]]"
            ]
          },
          "metadata": {},
          "execution_count": 52
        }
      ]
    },
    {
      "cell_type": "code",
      "source": [
        "if ent_log[1][0] == ent_log[1][1]:\n",
        "    print (\"Falso\")\n",
        "else:\n",
        "    print (\"Verd\")"
      ],
      "metadata": {
        "colab": {
          "base_uri": "https://localhost:8080/"
        },
        "id": "6aifBlejUDs8",
        "outputId": "26005d79-948a-4d90-e174-400c1b1b5688"
      },
      "execution_count": null,
      "outputs": [
        {
          "output_type": "stream",
          "name": "stdout",
          "text": [
            "Verd\n"
          ]
        }
      ]
    },
    {
      "cell_type": "code",
      "source": [
        "tx_aprend = float(input(print (\"Entre com taxa de aprendizagem: \")))\n",
        "nr_epocas = int(input(print (\"Entre com o número de épocas: \")))\n",
        "qtde_nos_escondidos = int(input(print (\"Entre com a qtde de nós da camada escondida: \")))"
      ],
      "metadata": {
        "colab": {
          "base_uri": "https://localhost:8080/"
        },
        "id": "RaOicnVHOJLP",
        "outputId": "bf921251-fbb9-4333-fe1f-b79ece4e5deb"
      },
      "execution_count": null,
      "outputs": [
        {
          "name": "stdout",
          "output_type": "stream",
          "text": [
            "Entre com taxa de aprendizagem: \n",
            "None0.1\n",
            "Entre com o número de épocas: \n",
            "None10000\n",
            "Entre com a qtde de nós da camada escondida: \n",
            "None4\n"
          ]
        }
      ]
    },
    {
      "cell_type": "code",
      "source": [
        "tx_aprend\n",
        "nr_epocas\n",
        "type(qtde_nos_escondidos)\n"
      ],
      "metadata": {
        "colab": {
          "base_uri": "https://localhost:8080/"
        },
        "id": "oICfSFAVPBZO",
        "outputId": "381f88af-0559-4f0a-9bc4-947b8162d5ba"
      },
      "execution_count": null,
      "outputs": [
        {
          "output_type": "execute_result",
          "data": {
            "text/plain": [
              "int"
            ]
          },
          "metadata": {},
          "execution_count": 4
        }
      ]
    },
    {
      "cell_type": "code",
      "execution_count": null,
      "metadata": {
        "id": "OQa_3LhuK9i6"
      },
      "outputs": [],
      "source": [
        "def calc_func_signoide (x):\n",
        "\n",
        "  return 1 / (1 + np.exp(-x))\n"
      ]
    },
    {
      "cell_type": "code",
      "source": [
        " calc_func_signoide(3)\n",
        "\n"
      ],
      "metadata": {
        "colab": {
          "base_uri": "https://localhost:8080/"
        },
        "id": "VmOsdZ9MIoN0",
        "outputId": "b5f42277-16de-4ad4-868c-669cdb914eea"
      },
      "execution_count": null,
      "outputs": [
        {
          "output_type": "execute_result",
          "data": {
            "text/plain": [
              "0.9525741268224334"
            ]
          },
          "metadata": {},
          "execution_count": 8
        }
      ]
    },
    {
      "cell_type": "markdown",
      "source": [],
      "metadata": {
        "id": "cvPG3ovUNsk1"
      }
    },
    {
      "cell_type": "markdown",
      "source": [],
      "metadata": {
        "id": "baHzL0VlIdSF"
      }
    },
    {
      "cell_type": "code",
      "source": [
        "def calc_derivada_parcial (x):\n",
        "  return x * (1-x)"
      ],
      "metadata": {
        "id": "mGza50TXLcog"
      },
      "execution_count": null,
      "outputs": []
    },
    {
      "cell_type": "code",
      "source": [
        "calc_derivada_parcial(calc_func_signoide(4))"
      ],
      "metadata": {
        "colab": {
          "base_uri": "https://localhost:8080/"
        },
        "id": "bnIY82ozLpHY",
        "outputId": "ef487efd-5938-404a-ef77-6186b22a1fab"
      },
      "execution_count": null,
      "outputs": [
        {
          "output_type": "execute_result",
          "data": {
            "text/plain": [
              "0.017662706213291107"
            ]
          },
          "metadata": {},
          "execution_count": 7
        }
      ]
    },
    {
      "cell_type": "code",
      "source": [
        "def calc_func_logica (a, b):\n",
        "    pass"
      ],
      "metadata": {
        "id": "6g2pFesHSydm"
      },
      "execution_count": null,
      "outputs": []
    },
    {
      "cell_type": "code",
      "source": [
        "#for ent in (entrada):\n",
        "print (X)"
      ],
      "metadata": {
        "colab": {
          "base_uri": "https://localhost:8080/"
        },
        "id": "FehKAJgOSMrm",
        "outputId": "ef2eba8f-9765-4fde-e67a-4cc979d7707d"
      },
      "execution_count": null,
      "outputs": [
        {
          "output_type": "stream",
          "name": "stdout",
          "text": [
            "[[0, 0], [0, 1], [1, 0], [1, 1]]\n"
          ]
        }
      ]
    },
    {
      "cell_type": "code",
      "source": [
        "# Inicialização dos pesos\n",
        "def inic_pesos(qtde_nos_escondidos, qtde_entrada, qtde_saida):\n",
        "    peso_ent_camada_oculta = np.random.rand(qtde_entrada, qtde_nos_escondidos)\n",
        "    peso_cam_oculta_saida = np.random.rand(qtde_nos_escondidos, qtde_saida)\n",
        "    return peso_ent_camada_oculta, peso_cam_oculta_saida"
      ],
      "metadata": {
        "id": "KcaUzlBGXdkh"
      },
      "execution_count": null,
      "outputs": []
    },
    {
      "cell_type": "code",
      "source": [
        "peso_cam_oculta_saida\n"
      ],
      "metadata": {
        "colab": {
          "base_uri": "https://localhost:8080/"
        },
        "id": "e-91vvNHq15K",
        "outputId": "4ce7ba7f-fbf8-4037-bdcb-98dd2662e528"
      },
      "execution_count": null,
      "outputs": [
        {
          "output_type": "execute_result",
          "data": {
            "text/plain": [
              "array([[0.56442866],\n",
              "       [0.81044696],\n",
              "       [0.46365033],\n",
              "       [0.10920238]])"
            ]
          },
          "metadata": {},
          "execution_count": 14
        }
      ]
    },
    {
      "cell_type": "code",
      "source": [
        "qtd_ent = dic_entrada['qtde_entrada']\n",
        "qtd_saida = dic_entrada['qtde_saida']\n",
        "type(qtd_saida)\n",
        "peso_ent_camada_oculta, peso_cam_oculta_saida = inic_pesos(qtde_nos_escondidos, qtd_ent, qtd_saida)\n",
        "print (peso_ent_camada_oculta, peso_cam_oculta_saida)"
      ],
      "metadata": {
        "colab": {
          "base_uri": "https://localhost:8080/"
        },
        "id": "Sa1nlX9wqNtC",
        "outputId": "bc549808-3103-4754-af4c-ad88ef8199b1"
      },
      "execution_count": null,
      "outputs": [
        {
          "output_type": "stream",
          "name": "stdout",
          "text": [
            "[[0.07281693 0.08046349 0.41915293 0.98674389]\n",
            " [0.09238692 0.80152996 0.10748828 0.56428056]] [[0.19843918]\n",
            " [0.29857661]\n",
            " [0.10951006]\n",
            " [0.31813934]]\n"
          ]
        }
      ]
    },
    {
      "cell_type": "code",
      "source": [
        "peso_cam_oculta_saida"
      ],
      "metadata": {
        "colab": {
          "base_uri": "https://localhost:8080/"
        },
        "id": "3OphehWAe66v",
        "outputId": "0eade40a-b42d-4294-873a-65d4f5310e7e"
      },
      "execution_count": null,
      "outputs": [
        {
          "output_type": "execute_result",
          "data": {
            "text/plain": [
              "array([[0.19843918],\n",
              "       [0.29857661],\n",
              "       [0.10951006],\n",
              "       [0.31813934]])"
            ]
          },
          "metadata": {},
          "execution_count": 38
        }
      ]
    },
    {
      "cell_type": "code",
      "source": [
        "from re import T\n",
        "def calc_fluxo_volta (X, y, tx_aprend ): #, peso_cam_oculta_saida, peso_ent_camada_oculta):\n",
        "\n",
        "    # Calculando o erro na camada de saída\n",
        "    erro_saida = y - saida\n",
        "#    print ('erro_saida', erro_saida)\n",
        "\n",
        "    # Atualizando os pesos da camada de saída\n",
        "    delta_output = erro_saida * calc_derivada_parcial(saida)\n",
        "#    print ('delta_output', delta_output)\n",
        "    peso_cam_oculta_saida += np.dot(erro_saida.T, delta_output) * tx_aprend\n",
        "    #bias_output += np.sum(delta_output, axis=0, keepdims=True) * tx_aprend\n",
        "    #print ('bias_output: ', bias_output)\n",
        "\n",
        "    # Calculando o erro na camada oculta\n",
        "    hidden_error = np.dot(delta_output, peso_cam_oculta_saida.T)\n",
        "\n",
        "    # Atualizando os pesos da camada oculta\n",
        "    delta_hidden = hidden_error * calc_derivada_parcial(erro_saida)\n",
        "    peso_ent_camada_oculta += np.dot(X.T, delta_hidden) * tx_aprend\n",
        "    #bias_hidden += np.sum(delta_hidden, axis=0, keepdims=True) * tx_aprend\n",
        "\n",
        "#calc_soma_cam_oculta(entrada, qtde_nos_escondidos, peso_ent_camada_oculta)"
      ],
      "metadata": {
        "id": "-qGiOG_bouEC"
      },
      "execution_count": null,
      "outputs": []
    },
    {
      "cell_type": "code",
      "source": [
        "def calc_fluxo_ida(X):\n",
        "    # Camada oculta\n",
        "    hidden_output = calc_func_signoide(np.dot(X, peso_ent_camada_oculta))\n",
        "\n",
        "    # Camada de saída\n",
        "    output = calc_func_signoide(np.dot(hidden_output, peso_cam_oculta_saida))\n",
        "    return output"
      ],
      "metadata": {
        "id": "CC0z-qRVeJYC"
      },
      "execution_count": null,
      "outputs": []
    },
    {
      "cell_type": "code",
      "source": [
        "# Para cada epoca, calcula o\n",
        "\n",
        "for epoca in range(nr_epocas):\n",
        "    saida = calc_fluxo_ida(X)\n",
        "#    print ('saida: ', saida)\n",
        "    calc_fluxo_volta(X, y, tx_aprend) #, peso_cam_oculta_saida, peso_ent_camada_oculta)\n",
        "    if epoca % 1000 == 0:\n",
        "        print(f'Error: {np.mean(np.abs(y - saida)):.4f}')\n",
        "\n",
        "print(\"Output after training:\")\n",
        "print(calc_fluxo_ida(X))"
      ],
      "metadata": {
        "colab": {
          "base_uri": "https://localhost:8080/",
          "height": 332
        },
        "id": "vcJTZxKdhkBJ",
        "outputId": "007762b3-2075-466a-d64c-63d00467d140"
      },
      "execution_count": null,
      "outputs": [
        {
          "output_type": "error",
          "ename": "UnboundLocalError",
          "evalue": "local variable 'peso_cam_oculta_saida' referenced before assignment",
          "traceback": [
            "\u001b[0;31m---------------------------------------------------------------------------\u001b[0m",
            "\u001b[0;31mUnboundLocalError\u001b[0m                         Traceback (most recent call last)",
            "\u001b[0;32m<ipython-input-37-7843afdca37e>\u001b[0m in \u001b[0;36m<cell line: 3>\u001b[0;34m()\u001b[0m\n\u001b[1;32m      4\u001b[0m     \u001b[0msaida\u001b[0m \u001b[0;34m=\u001b[0m \u001b[0mcalc_fluxo_ida\u001b[0m\u001b[0;34m(\u001b[0m\u001b[0mX\u001b[0m\u001b[0;34m)\u001b[0m\u001b[0;34m\u001b[0m\u001b[0;34m\u001b[0m\u001b[0m\n\u001b[1;32m      5\u001b[0m \u001b[0;31m#    print ('saida: ', saida)\u001b[0m\u001b[0;34m\u001b[0m\u001b[0;34m\u001b[0m\u001b[0m\n\u001b[0;32m----> 6\u001b[0;31m     \u001b[0mcalc_fluxo_volta\u001b[0m\u001b[0;34m(\u001b[0m\u001b[0mX\u001b[0m\u001b[0;34m,\u001b[0m \u001b[0my\u001b[0m\u001b[0;34m,\u001b[0m \u001b[0mtx_aprend\u001b[0m\u001b[0;34m)\u001b[0m \u001b[0;31m#, peso_cam_oculta_saida, peso_ent_camada_oculta)\u001b[0m\u001b[0;34m\u001b[0m\u001b[0;34m\u001b[0m\u001b[0m\n\u001b[0m\u001b[1;32m      7\u001b[0m     \u001b[0;32mif\u001b[0m \u001b[0mepoca\u001b[0m \u001b[0;34m%\u001b[0m \u001b[0;36m1000\u001b[0m \u001b[0;34m==\u001b[0m \u001b[0;36m0\u001b[0m\u001b[0;34m:\u001b[0m\u001b[0;34m\u001b[0m\u001b[0;34m\u001b[0m\u001b[0m\n\u001b[1;32m      8\u001b[0m         \u001b[0mprint\u001b[0m\u001b[0;34m(\u001b[0m\u001b[0;34mf'Error: {np.mean(np.abs(y - saida)):.4f}'\u001b[0m\u001b[0;34m)\u001b[0m\u001b[0;34m\u001b[0m\u001b[0;34m\u001b[0m\u001b[0m\n",
            "\u001b[0;32m<ipython-input-35-fd9e08d776fe>\u001b[0m in \u001b[0;36mcalc_fluxo_volta\u001b[0;34m(X, y, tx_aprend)\u001b[0m\n\u001b[1;32m      9\u001b[0m     \u001b[0mdelta_output\u001b[0m \u001b[0;34m=\u001b[0m \u001b[0merro_saida\u001b[0m \u001b[0;34m*\u001b[0m \u001b[0mcalc_derivada_parcial\u001b[0m\u001b[0;34m(\u001b[0m\u001b[0msaida\u001b[0m\u001b[0;34m)\u001b[0m\u001b[0;34m\u001b[0m\u001b[0;34m\u001b[0m\u001b[0m\n\u001b[1;32m     10\u001b[0m \u001b[0;31m#    print ('delta_output', delta_output)\u001b[0m\u001b[0;34m\u001b[0m\u001b[0;34m\u001b[0m\u001b[0m\n\u001b[0;32m---> 11\u001b[0;31m     \u001b[0mpeso_cam_oculta_saida\u001b[0m \u001b[0;34m+=\u001b[0m \u001b[0mnp\u001b[0m\u001b[0;34m.\u001b[0m\u001b[0mdot\u001b[0m\u001b[0;34m(\u001b[0m\u001b[0merro_saida\u001b[0m\u001b[0;34m.\u001b[0m\u001b[0mT\u001b[0m\u001b[0;34m,\u001b[0m \u001b[0mdelta_output\u001b[0m\u001b[0;34m)\u001b[0m \u001b[0;34m*\u001b[0m \u001b[0mtx_aprend\u001b[0m\u001b[0;34m\u001b[0m\u001b[0;34m\u001b[0m\u001b[0m\n\u001b[0m\u001b[1;32m     12\u001b[0m     \u001b[0;31m#bias_output += np.sum(delta_output, axis=0, keepdims=True) * tx_aprend\u001b[0m\u001b[0;34m\u001b[0m\u001b[0;34m\u001b[0m\u001b[0m\n\u001b[1;32m     13\u001b[0m     \u001b[0;31m#print ('bias_output: ', bias_output)\u001b[0m\u001b[0;34m\u001b[0m\u001b[0;34m\u001b[0m\u001b[0m\n",
            "\u001b[0;31mUnboundLocalError\u001b[0m: local variable 'peso_cam_oculta_saida' referenced before assignment"
          ]
        }
      ]
    },
    {
      "cell_type": "code",
      "source": [
        "import numpy as np\n",
        "\n",
        "class NeuralNetwork:\n",
        "    def __init__(self, qtde_entrada, qtde_nos_escondidos, qtde_saida):\n",
        "        self.qtde_entrada = qtde_entrada\n",
        "        self.qtde_nos_escondidos = qtde_nos_escondidos\n",
        "        self.qtde_saida = qtde_saida\n",
        "\n",
        "        # Inicialização dos pesos\n",
        "        self.weights_input_hidden = np.random.rand(self.qtde_entrada, self.qtde_nos_escondidos)\n",
        "        self.weights_hidden_output = np.random.rand(self.qtde_nos_escondidos, self.qtde_saida)\n",
        "\n",
        "        # Inicialização dos viéses\n",
        "        #self.bias_hidden = np.random.rand(1, self.qtde_nos_escondidos)\n",
        "        #self.bias_output = np.random.rand(1, self.qtde_saida)\n",
        "\n",
        "    def sigmoid(self, x):\n",
        "        return 1 / (1 + np.exp(-x))\n",
        "\n",
        "    def sigmoid_derivative(self, x):\n",
        "        return x * (1 - x)\n",
        "\n",
        "    def feedforward(self, X):\n",
        "        # Camada oculta\n",
        "        self.hidden_output = self.sigmoid(np.dot(X, self.weights_input_hidden)) # + self.bias_hidden)\n",
        "\n",
        "        # Camada de saída\n",
        "        self.output = self.sigmoid(np.dot(self.hidden_output, self.weights_hidden_output)) # + self.bias_output)\n",
        "        return self.output\n",
        "\n",
        "    def backward(self, X, y, learning_rate):\n",
        "        # Calculando o erro na camada de saída\n",
        "        output_error = y - self.output\n",
        "        #print ('output_error: ', output_error)\n",
        "\n",
        "        # Atualizando os pesos da camada de saída\n",
        "        delta_output = output_error * self.sigmoid_derivative(self.output)\n",
        "        #print ('delta_output: ', delta_output)\n",
        "        self.weights_hidden_output += np.dot(self.hidden_output.T, delta_output) * learning_rate\n",
        "        #self.bias_output += np.sum(delta_output, axis=0, keepdims=True) * learning_rate\n",
        "\n",
        "        # Calculando o erro na camada oculta\n",
        "        hidden_error = np.dot(delta_output, self.weights_hidden_output.T)\n",
        "\n",
        "        # Atualizando os pesos da camada oculta\n",
        "        delta_hidden = hidden_error * self.sigmoid_derivative(self.hidden_output)\n",
        "        self.weights_input_hidden += np.dot(X.T, delta_hidden) * learning_rate\n",
        "        #self.bias_hidden += np.sum(delta_hidden, axis=0, keepdims=True) * learning_rate\n",
        "\n",
        "# Exemplo de uso\n",
        "X = np.array([[0, 0], [0, 1], [1, 0], [1, 1]])\n",
        "y = np.array([[0], [1], [1], [0]])\n",
        "\n",
        "qtde_entrada = 2\n",
        "qtde_nos_escondidos = 4\n",
        "qtde_saida = 1\n",
        "\n",
        "nn = NeuralNetwork(qtde_entrada, qtde_nos_escondidos, qtde_saida)\n",
        "\n",
        "epochs = 10000\n",
        "learning_rate = 0.1\n",
        "\n",
        "for epoch in range(epochs):\n",
        "    output = nn.feedforward(X)\n",
        "    nn.backward(X, y, learning_rate)\n",
        "    if epoch % 1000 == 0:\n",
        "        print(f'Error: {np.mean(np.abs(y - output)):.4f}')\n",
        "\n",
        "print(\"Output after training:\")\n",
        "print(nn.feedforward(X))\n"
      ],
      "metadata": {
        "colab": {
          "base_uri": "https://localhost:8080/"
        },
        "id": "XPdiadsbscmW",
        "outputId": "aa4b6b46-7473-4622-f1fb-1207f726c321"
      },
      "execution_count": null,
      "outputs": [
        {
          "output_type": "stream",
          "name": "stdout",
          "text": [
            "Error: 0.4993\n",
            "Error: 0.4996\n",
            "Error: 0.4945\n",
            "Error: 0.4506\n",
            "Error: 0.3570\n",
            "Error: 0.2286\n",
            "Error: 0.1601\n",
            "Error: 0.1265\n",
            "Error: 0.1067\n",
            "Error: 0.0935\n",
            "Output after training:\n",
            "[[0.0990723 ]\n",
            " [0.91755848]\n",
            " [0.91766426]\n",
            " [0.07184535]]\n"
          ]
        }
      ]
    }
  ]
}