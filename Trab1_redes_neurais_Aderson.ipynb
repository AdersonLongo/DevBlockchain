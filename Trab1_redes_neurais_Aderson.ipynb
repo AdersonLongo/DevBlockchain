{
  "nbformat": 4,
  "nbformat_minor": 0,
  "metadata": {
    "colab": {
      "provenance": [],
      "authorship_tag": "ABX9TyMuGdjJ6QucN5t+TMbfSSK2",
      "include_colab_link": true
    },
    "kernelspec": {
      "name": "python3",
      "display_name": "Python 3"
    },
    "language_info": {
      "name": "python"
    }
  },
  "cells": [
    {
      "cell_type": "markdown",
      "metadata": {
        "id": "view-in-github",
        "colab_type": "text"
      },
      "source": [
        "<a href=\"https://colab.research.google.com/github/AdersonLongo/DevBlockchain/blob/main/Trab1_redes_neurais_Aderson.ipynb\" target=\"_parent\"><img src=\"https://colab.research.google.com/assets/colab-badge.svg\" alt=\"Open In Colab\"/></a>"
      ]
    },
    {
      "cell_type": "code",
      "source": [
        "import numpy as np\n",
        "import enum\n",
        "\n",
        "class Numeros(enum.Enum):\n",
        "    qtde_entrada = 2\n",
        "    qtde_saida = 1\n",
        "\n",
        "dic_entrada = {'qtde_entrada': 2, 'qtde_saida': 1 }\n"
      ],
      "metadata": {
        "id": "deOFcVM0HTCv"
      },
      "execution_count": 2,
      "outputs": []
    },
    {
      "cell_type": "code",
      "source": [
        "dic_entrada['qtde_saida']"
      ],
      "metadata": {
        "colab": {
          "base_uri": "https://localhost:8080/"
        },
        "id": "Npy9ld6j7Hhf",
        "outputId": "474fca38-cb91-4e18-93ee-7e262fdff109"
      },
      "execution_count": 3,
      "outputs": [
        {
          "output_type": "execute_result",
          "data": {
            "text/plain": [
              "1"
            ]
          },
          "metadata": {},
          "execution_count": 3
        }
      ]
    },
    {
      "cell_type": "code",
      "source": [
        "entrada = [[0,0],[0,1],[1,0],[1,1]]\n",
        "ent_log = [[False,False],[False,True],[True,False],[True,True]]\n",
        "result_esp = [0, 1, 1, 0]"
      ],
      "metadata": {
        "id": "F7uphEOCNtGO"
      },
      "execution_count": 4,
      "outputs": []
    },
    {
      "cell_type": "code",
      "source": [
        "ent_log"
      ],
      "metadata": {
        "colab": {
          "base_uri": "https://localhost:8080/"
        },
        "id": "eXZGKrUKT_NV",
        "outputId": "ccac6c79-844f-4e6f-8d54-7d18a9bf6372"
      },
      "execution_count": 52,
      "outputs": [
        {
          "output_type": "execute_result",
          "data": {
            "text/plain": [
              "[[False, False], [False, True], [True, False], [True, True]]"
            ]
          },
          "metadata": {},
          "execution_count": 52
        }
      ]
    },
    {
      "cell_type": "code",
      "source": [
        "if ent_log[1][0] == ent_log[1][1]:\n",
        "    print (\"Falso\")\n",
        "else:\n",
        "    print (\"Verd\")"
      ],
      "metadata": {
        "colab": {
          "base_uri": "https://localhost:8080/"
        },
        "id": "6aifBlejUDs8",
        "outputId": "26005d79-948a-4d90-e174-400c1b1b5688"
      },
      "execution_count": 5,
      "outputs": [
        {
          "output_type": "stream",
          "name": "stdout",
          "text": [
            "Verd\n"
          ]
        }
      ]
    },
    {
      "cell_type": "code",
      "source": [
        "tx_aprend = float(input(print (\"Entre com taxa de aprendizagem: \")))\n",
        "nr_epocas = int(input(print (\"Entre com o número de épocas: \")))\n",
        "qtde_nos_escondidos = int(input(print (\"Entre com a qtde de nós da camada escondida: \")))"
      ],
      "metadata": {
        "colab": {
          "base_uri": "https://localhost:8080/"
        },
        "id": "RaOicnVHOJLP",
        "outputId": "876987c1-28aa-4ba6-dacf-b2a0a408e5ab"
      },
      "execution_count": 6,
      "outputs": [
        {
          "name": "stdout",
          "output_type": "stream",
          "text": [
            "Entre com taxa de aprendizagem: \n",
            "None0.002\n",
            "Entre com o número de épocas: \n",
            "None1000\n",
            "Entre com a qtde de nós da camada escondida: \n",
            "None3\n"
          ]
        }
      ]
    },
    {
      "cell_type": "code",
      "source": [
        "tx_aprend\n",
        "nr_epocas\n",
        "type(qtde_nos_escondidos)\n"
      ],
      "metadata": {
        "colab": {
          "base_uri": "https://localhost:8080/"
        },
        "id": "oICfSFAVPBZO",
        "outputId": "ce88f959-4005-4a03-c186-e53b54ead81d"
      },
      "execution_count": 55,
      "outputs": [
        {
          "output_type": "execute_result",
          "data": {
            "text/plain": [
              "int"
            ]
          },
          "metadata": {},
          "execution_count": 55
        }
      ]
    },
    {
      "cell_type": "code",
      "execution_count": 7,
      "metadata": {
        "id": "OQa_3LhuK9i6"
      },
      "outputs": [],
      "source": [
        "def calc_func_signoide (x):\n",
        "\n",
        "  return 1 / (1 + np.exp(-x))\n"
      ]
    },
    {
      "cell_type": "code",
      "source": [
        " calc_func_signoide(3)\n",
        "\n"
      ],
      "metadata": {
        "colab": {
          "base_uri": "https://localhost:8080/"
        },
        "id": "VmOsdZ9MIoN0",
        "outputId": "b5f42277-16de-4ad4-868c-669cdb914eea"
      },
      "execution_count": 8,
      "outputs": [
        {
          "output_type": "execute_result",
          "data": {
            "text/plain": [
              "0.9525741268224334"
            ]
          },
          "metadata": {},
          "execution_count": 8
        }
      ]
    },
    {
      "cell_type": "markdown",
      "source": [],
      "metadata": {
        "id": "cvPG3ovUNsk1"
      }
    },
    {
      "cell_type": "markdown",
      "source": [],
      "metadata": {
        "id": "baHzL0VlIdSF"
      }
    },
    {
      "cell_type": "code",
      "source": [
        "def calc_derivada_parcial (x):\n",
        "  return x * (1-x)"
      ],
      "metadata": {
        "id": "mGza50TXLcog"
      },
      "execution_count": 9,
      "outputs": []
    },
    {
      "cell_type": "code",
      "source": [
        "calc_derivada_parcial(calc_func_signoide(4))"
      ],
      "metadata": {
        "colab": {
          "base_uri": "https://localhost:8080/"
        },
        "id": "bnIY82ozLpHY",
        "outputId": "925fd5f4-8783-4ab9-f9eb-f1bd2ac94c38"
      },
      "execution_count": 14,
      "outputs": [
        {
          "output_type": "execute_result",
          "data": {
            "text/plain": [
              "0.017662706213291107"
            ]
          },
          "metadata": {},
          "execution_count": 14
        }
      ]
    },
    {
      "cell_type": "code",
      "source": [
        "def calc_func_logica (a, b):\n",
        "    pass"
      ],
      "metadata": {
        "id": "6g2pFesHSydm"
      },
      "execution_count": 11,
      "outputs": []
    },
    {
      "cell_type": "code",
      "source": [
        "#for ent in (entrada):\n",
        "print ((entrada[3][1]))"
      ],
      "metadata": {
        "colab": {
          "base_uri": "https://localhost:8080/"
        },
        "id": "FehKAJgOSMrm",
        "outputId": "1feaec1f-a54e-48db-cf5e-e8c34e37be80"
      },
      "execution_count": 39,
      "outputs": [
        {
          "output_type": "stream",
          "name": "stdout",
          "text": [
            "1\n"
          ]
        }
      ]
    },
    {
      "cell_type": "code",
      "source": [
        "# Inicialização dos pesos\n",
        "def inic_pesos(qtde_nos_escondidos, qtde_entrada, qtde_saida):\n",
        "    peso_ent_camada_oculta = np.random.rand(qtde_entrada, qtde_nos_escondidos)\n",
        "    peso_cam_oculta_saida = np.random.rand(qtde_nos_escondidos, qtde_saida)\n",
        "    return peso_ent_camada_oculta, peso_cam_oculta_saida"
      ],
      "metadata": {
        "id": "KcaUzlBGXdkh"
      },
      "execution_count": 12,
      "outputs": []
    },
    {
      "cell_type": "code",
      "source": [
        "(qtde_nos_escondidos)\n"
      ],
      "metadata": {
        "colab": {
          "base_uri": "https://localhost:8080/"
        },
        "id": "e-91vvNHq15K",
        "outputId": "91dcc206-27b1-4005-d3ff-4fa8cd6a16f2"
      },
      "execution_count": 29,
      "outputs": [
        {
          "output_type": "execute_result",
          "data": {
            "text/plain": [
              "3"
            ]
          },
          "metadata": {},
          "execution_count": 29
        }
      ]
    },
    {
      "cell_type": "code",
      "source": [
        "qtd_ent = dic_entrada['qtde_entrada']\n",
        "qtd_saida = dic_entrada['qtde_saida']\n",
        "type(qtd_saida)\n",
        "peso_ent_camada_oculta, peso_cam_oculta_saida = inic_pesos(qtde_nos_escondidos, qtd_ent, qtd_saida)\n",
        "print (peso_ent_camada_oculta, peso_cam_oculta_saida)"
      ],
      "metadata": {
        "colab": {
          "base_uri": "https://localhost:8080/"
        },
        "id": "Sa1nlX9wqNtC",
        "outputId": "202b968f-d00c-453b-9a79-b9aa118edec4"
      },
      "execution_count": 13,
      "outputs": [
        {
          "output_type": "stream",
          "name": "stdout",
          "text": [
            "[[0.68402889 0.86013923 0.94590979]\n",
            " [0.3302641  0.57391939 0.37696455]] [[0.70442419]\n",
            " [0.12561286]\n",
            " [0.54477415]]\n"
          ]
        }
      ]
    },
    {
      "cell_type": "code",
      "source": [
        "def calc_soma_cam_oculta (entrada, qtde_nos_escondidos, peso_ent_camada_oculta):\n",
        "    for nos in range(qtde_nos_escondidos):\n",
        "        print(nos)\n",
        "        print (\"Entrada: \", entrada[nos][1])\n",
        "        print ('Peso: ', peso_ent_camada_oculta[nos][1])\n",
        "        soma = 0\n",
        "        # (entrada[0]) * (peso_ent_camada_oculta[nos])\n",
        "        print ('Soma', soma)\n",
        "        #nos_escond = [[nos][]\n",
        "calc_soma_cam_oculta(entrada, qtde_nos_escondidos, peso_ent_camada_oculta)"
      ],
      "metadata": {
        "colab": {
          "base_uri": "https://localhost:8080/",
          "height": 471
        },
        "id": "-qGiOG_bouEC",
        "outputId": "d1284d90-4af4-4411-a479-113730118e1e"
      },
      "execution_count": 27,
      "outputs": [
        {
          "output_type": "stream",
          "name": "stdout",
          "text": [
            "0\n",
            "Entrada:  0\n",
            "Peso:  0.860139226308778\n",
            "Soma 0\n",
            "1\n",
            "Entrada:  1\n",
            "Peso:  0.5739193903824372\n",
            "Soma 0\n",
            "2\n",
            "Entrada:  0\n"
          ]
        },
        {
          "output_type": "error",
          "ename": "IndexError",
          "evalue": "index 2 is out of bounds for axis 0 with size 2",
          "traceback": [
            "\u001b[0;31m---------------------------------------------------------------------------\u001b[0m",
            "\u001b[0;31mIndexError\u001b[0m                                Traceback (most recent call last)",
            "\u001b[0;32m<ipython-input-27-45e336ca89d3>\u001b[0m in \u001b[0;36m<cell line: 10>\u001b[0;34m()\u001b[0m\n\u001b[1;32m      8\u001b[0m         \u001b[0mprint\u001b[0m \u001b[0;34m(\u001b[0m\u001b[0;34m'Soma'\u001b[0m\u001b[0;34m,\u001b[0m \u001b[0msoma\u001b[0m\u001b[0;34m)\u001b[0m\u001b[0;34m\u001b[0m\u001b[0;34m\u001b[0m\u001b[0m\n\u001b[1;32m      9\u001b[0m         \u001b[0;31m#nos_escond = [[nos][]\u001b[0m\u001b[0;34m\u001b[0m\u001b[0;34m\u001b[0m\u001b[0m\n\u001b[0;32m---> 10\u001b[0;31m \u001b[0mcalc_soma_cam_oculta\u001b[0m\u001b[0;34m(\u001b[0m\u001b[0mentrada\u001b[0m\u001b[0;34m,\u001b[0m \u001b[0mqtde_nos_escondidos\u001b[0m\u001b[0;34m,\u001b[0m \u001b[0mpeso_ent_camada_oculta\u001b[0m\u001b[0;34m)\u001b[0m\u001b[0;34m\u001b[0m\u001b[0;34m\u001b[0m\u001b[0m\n\u001b[0m",
            "\u001b[0;32m<ipython-input-27-45e336ca89d3>\u001b[0m in \u001b[0;36mcalc_soma_cam_oculta\u001b[0;34m(entrada, qtde_nos_escondidos, peso_ent_camada_oculta)\u001b[0m\n\u001b[1;32m      3\u001b[0m         \u001b[0mprint\u001b[0m\u001b[0;34m(\u001b[0m\u001b[0mnos\u001b[0m\u001b[0;34m)\u001b[0m\u001b[0;34m\u001b[0m\u001b[0;34m\u001b[0m\u001b[0m\n\u001b[1;32m      4\u001b[0m         \u001b[0mprint\u001b[0m \u001b[0;34m(\u001b[0m\u001b[0;34m\"Entrada: \"\u001b[0m\u001b[0;34m,\u001b[0m \u001b[0mentrada\u001b[0m\u001b[0;34m[\u001b[0m\u001b[0mnos\u001b[0m\u001b[0;34m]\u001b[0m\u001b[0;34m[\u001b[0m\u001b[0;36m1\u001b[0m\u001b[0;34m]\u001b[0m\u001b[0;34m)\u001b[0m\u001b[0;34m\u001b[0m\u001b[0;34m\u001b[0m\u001b[0m\n\u001b[0;32m----> 5\u001b[0;31m         \u001b[0mprint\u001b[0m \u001b[0;34m(\u001b[0m\u001b[0;34m'Peso: '\u001b[0m\u001b[0;34m,\u001b[0m \u001b[0mpeso_ent_camada_oculta\u001b[0m\u001b[0;34m[\u001b[0m\u001b[0mnos\u001b[0m\u001b[0;34m]\u001b[0m\u001b[0;34m[\u001b[0m\u001b[0;36m1\u001b[0m\u001b[0;34m]\u001b[0m\u001b[0;34m)\u001b[0m\u001b[0;34m\u001b[0m\u001b[0;34m\u001b[0m\u001b[0m\n\u001b[0m\u001b[1;32m      6\u001b[0m         \u001b[0msoma\u001b[0m \u001b[0;34m=\u001b[0m \u001b[0;36m0\u001b[0m\u001b[0;34m\u001b[0m\u001b[0;34m\u001b[0m\u001b[0m\n\u001b[1;32m      7\u001b[0m         \u001b[0;31m# (entrada[0]) * (peso_ent_camada_oculta[nos])\u001b[0m\u001b[0;34m\u001b[0m\u001b[0;34m\u001b[0m\u001b[0m\n",
            "\u001b[0;31mIndexError\u001b[0m: index 2 is out of bounds for axis 0 with size 2"
          ]
        }
      ]
    },
    {
      "cell_type": "code",
      "source": [],
      "metadata": {
        "id": "zQk52AnPGMYa"
      },
      "execution_count": null,
      "outputs": []
    }
  ]
}