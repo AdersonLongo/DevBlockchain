{
  "nbformat": 4,
  "nbformat_minor": 0,
  "metadata": {
    "colab": {
      "provenance": [],
      "authorship_tag": "ABX9TyO6VyEHBzC6vo7mT4jGRS77",
      "include_colab_link": true
    },
    "kernelspec": {
      "name": "python3",
      "display_name": "Python 3"
    },
    "language_info": {
      "name": "python"
    }
  },
  "cells": [
    {
      "cell_type": "markdown",
      "metadata": {
        "id": "view-in-github",
        "colab_type": "text"
      },
      "source": [
        "<a href=\"https://colab.research.google.com/github/AdersonLongo/DevBlockchain/blob/main/Trab1_redes_neurais_Aderson.ipynb\" target=\"_parent\"><img src=\"https://colab.research.google.com/assets/colab-badge.svg\" alt=\"Open In Colab\"/></a>"
      ]
    },
    {
      "cell_type": "code",
      "source": [
        "import numpy as np\n",
        "\n",
        "dic_entrada = {'qtde_entrada': 2, 'qtde_saida': 1 }\n",
        "peso_ent_camada_oculta = []\n",
        "peso_cam_oculta_saida = []"
      ],
      "metadata": {
        "id": "deOFcVM0HTCv"
      },
      "execution_count": 73,
      "outputs": []
    },
    {
      "cell_type": "code",
      "source": [
        "X = [[0,0],[0,1],[1,0],[1,1]]\n",
        "ent_log = [[False,False],[False,True],[True,False],[True,True]]\n",
        "y = [0, 1, 1, 0]"
      ],
      "metadata": {
        "id": "F7uphEOCNtGO"
      },
      "execution_count": 74,
      "outputs": []
    },
    {
      "cell_type": "code",
      "source": [
        "tx_aprend = float(input(print (\"Entre com taxa de aprendizagem: \")))\n",
        "nr_epocas = int(input(print (\"Entre com o número de épocas: \")))\n",
        "qtde_nos_escondidos = int(input(print (\"Entre com a qtde de nós da camada escondida: \")))"
      ],
      "metadata": {
        "colab": {
          "base_uri": "https://localhost:8080/"
        },
        "id": "RaOicnVHOJLP",
        "outputId": "953e0293-ae1e-4db8-e752-0e095617932f"
      },
      "execution_count": 75,
      "outputs": [
        {
          "name": "stdout",
          "output_type": "stream",
          "text": [
            "Entre com taxa de aprendizagem: \n",
            "None0.002\n",
            "Entre com o número de épocas: \n",
            "None10000\n",
            "Entre com a qtde de nós da camada escondida: \n",
            "None3\n"
          ]
        }
      ]
    },
    {
      "cell_type": "code",
      "execution_count": null,
      "metadata": {
        "id": "OQa_3LhuK9i6"
      },
      "outputs": [],
      "source": [
        "def calc_func_signoide (x):\n",
        "\n",
        "  return 1 / (1 + np.exp(-x))\n"
      ]
    },
    {
      "cell_type": "code",
      "source": [
        "def calc_derivada_parcial (x):\n",
        "  return x * (1-x)"
      ],
      "metadata": {
        "id": "mGza50TXLcog"
      },
      "execution_count": null,
      "outputs": []
    },
    {
      "cell_type": "code",
      "source": [
        "qtd_ent = dic_entrada['qtde_entrada']\n",
        "qtd_saida = dic_entrada['qtde_saida']\n",
        "type(qtd_saida)\n",
        "peso_ent_camada_oculta, peso_cam_oculta_saida = inic_pesos(qtde_nos_escondidos, qtd_ent, qtd_saida)\n",
        "#print (peso_ent_camada_oculta, peso_cam_oculta_saida)"
      ],
      "metadata": {
        "id": "Sa1nlX9wqNtC"
      },
      "execution_count": 77,
      "outputs": []
    },
    {
      "cell_type": "code",
      "source": [
        "def calc_back(X, peso_ent_camada_oculta, peso_cam_oculta_saida, output):\n",
        "    # Backpropagation\n",
        "    output_error = y - output\n",
        "    output_delta = output_error * sigmoid_derivative(output)\n",
        "\n",
        "    hidden_error = output_delta.dot(peso_cam_oculta_saida.T)\n",
        "    erro_saida = hidden_error * sigmoid_derivative(hidden_output)\n",
        "    if epoch % 1000 == 0:\n",
        "        print(f'Error: {np.mean(np.abs(y - output)):.4f}')\n",
        "\n",
        "    # Atualizando os pesos da camada de saída\n",
        "    delta_output = output_error * sigmoid_derivative(output)\n",
        "    peso_cam_oculta_saida += np.dot(hidden_output.T, delta_output) * learning_rate\n",
        "\n",
        "    # Calculando o erro na camada oculta\n",
        "    hidden_error = np.dot(delta_output, peso_cam_oculta_saida.T)\n",
        "\n",
        "    # Atualizando os pesos da camada oculta\n",
        "    delta_hidden = hidden_error * sigmoid_derivative(hidden_output)\n",
        "    peso_ent_camada_oculta += np.dot(X.T, delta_hidden) * learning_rate\n"
      ],
      "metadata": {
        "id": "-qGiOG_bouEC"
      },
      "execution_count": 190,
      "outputs": []
    },
    {
      "cell_type": "code",
      "source": [
        "def calc_fluxo_ida(X, peso_ent_camada_oculta, peso_cam_oculta_saida):\n",
        "    # Camada oculta\n",
        "    # Calcula para cada nó o\n",
        "    hidden_input = np.dot(X, peso_ent_camada_oculta)\n",
        "    hidden_output = sigmoid(hidden_input)\n",
        "\n",
        "    output_input = np.dot(hidden_output, peso_cam_oculta_saida) #hidden_output.T.dot(hidden_output) #np.dot(hidden_output, weights_hidden_output) #hidden_output@weights_hidden_output\n",
        "    output = sigmoid(output_input)\n",
        "    calc_back(X, peso_ent_camada_oculta, peso_cam_oculta_saida, output)\n",
        "    saida = [output, hidden_output]\n",
        "    return saida\n"
      ],
      "metadata": {
        "id": "CC0z-qRVeJYC"
      },
      "execution_count": 195,
      "outputs": []
    },
    {
      "cell_type": "code",
      "source": [
        "# Para cada epoca, calcula o\n",
        "\n",
        "for epoca in range(nr_epocas):\n",
        "    saida = calc_fluxo_ida(X, peso_ent_camada_oculta, peso_cam_oculta_saida)\n",
        "#    print ('saida[0]: ', saida[0])\n",
        "    #calc_fluxo_volta(X, y, tx_aprend, peso_ent_camada_oculta, peso_cam_oculta_saida)\n",
        "    if epoca % 1000 == 0:\n",
        "        print(f'Error: {np.mean(np.abs(y - saida[0])):.4f}')\n",
        "\n",
        "print(\"Saída depois do treinamento:\")\n",
        "print(saida[0], \"\\n\")\n",
        "print (\"Pesos entre camada de entrada e ocultas: \", peso_ent_camada_oculta, \"\\n\")\n",
        "print (\"Pesos entre camadas e de saída: \", peso_cam_oculta_saida, \"\\n\")"
      ],
      "metadata": {
        "colab": {
          "base_uri": "https://localhost:8080/"
        },
        "id": "vcJTZxKdhkBJ",
        "outputId": "a5f8be3d-d29f-45be-c090-202a0e1393bb"
      },
      "execution_count": 194,
      "outputs": [
        {
          "output_type": "stream",
          "name": "stdout",
          "text": [
            "Error: 0.0298\n",
            "Error: 0.0295\n",
            "Error: 0.0292\n",
            "Error: 0.0289\n",
            "Error: 0.0286\n",
            "Error: 0.0283\n",
            "Error: 0.0281\n",
            "Error: 0.0278\n",
            "Error: 0.0275\n",
            "Error: 0.0273\n",
            "Saída depois do treinamento:\n",
            "[[0.03903504]\n",
            " [0.97369901]\n",
            " [0.97361685]\n",
            " [0.01646283]] \n",
            "\n",
            "Pesos entre camada de entrada e ocultas:  [[-4.70492484  5.71230191  6.59039453]\n",
            " [ 6.78222363  5.69030532 -4.56923623]] \n",
            "\n",
            "Pesos entre camadas e de saída:  [[-10.1380292 ]\n",
            " [ 13.88903586]\n",
            " [-10.15798213]] \n",
            "\n"
          ]
        }
      ]
    }
  ]
}