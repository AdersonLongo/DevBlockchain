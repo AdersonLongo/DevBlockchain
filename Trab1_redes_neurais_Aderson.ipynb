{
  "nbformat": 4,
  "nbformat_minor": 0,
  "metadata": {
    "colab": {
      "provenance": [],
      "authorship_tag": "ABX9TyP44JmWC9ncucMde6Xs8+Aj",
      "include_colab_link": true
    },
    "kernelspec": {
      "name": "python3",
      "display_name": "Python 3"
    },
    "language_info": {
      "name": "python"
    }
  },
  "cells": [
    {
      "cell_type": "markdown",
      "metadata": {
        "id": "view-in-github",
        "colab_type": "text"
      },
      "source": [
        "<a href=\"https://colab.research.google.com/github/AdersonLongo/DevBlockchain/blob/main/Trab1_redes_neurais_Aderson.ipynb\" target=\"_parent\"><img src=\"https://colab.research.google.com/assets/colab-badge.svg\" alt=\"Open In Colab\"/></a>"
      ]
    },
    {
      "cell_type": "code",
      "source": [
        "import numpy as np\n",
        "import enum\n",
        "\n",
        "class Numeros(enum.Enum):\n",
        "    qtde_entrada = 2\n",
        "    qtde_saida = 1\n",
        "\n",
        "dic_entrada = {'qtde_entrada': 2, 'qtde_saida': 1 }\n"
      ],
      "metadata": {
        "id": "deOFcVM0HTCv"
      },
      "execution_count": 74,
      "outputs": []
    },
    {
      "cell_type": "code",
      "source": [
        "dic_entrada['qtde_saida']"
      ],
      "metadata": {
        "colab": {
          "base_uri": "https://localhost:8080/"
        },
        "id": "Npy9ld6j7Hhf",
        "outputId": "c187db32-e93d-4c13-a121-161307221a7f"
      },
      "execution_count": 76,
      "outputs": [
        {
          "output_type": "execute_result",
          "data": {
            "text/plain": [
              "1"
            ]
          },
          "metadata": {},
          "execution_count": 76
        }
      ]
    },
    {
      "cell_type": "code",
      "source": [
        "entrada = [[0,0],[0,1],[1,0],[1,1]]\n",
        "ent_log = [[False,False],[False,True],[True,False],[True,True]]\n",
        "result_esp = [0, 1, 1, 0]"
      ],
      "metadata": {
        "id": "F7uphEOCNtGO"
      },
      "execution_count": 3,
      "outputs": []
    },
    {
      "cell_type": "code",
      "source": [
        "ent_log"
      ],
      "metadata": {
        "colab": {
          "base_uri": "https://localhost:8080/"
        },
        "id": "eXZGKrUKT_NV",
        "outputId": "ccac6c79-844f-4e6f-8d54-7d18a9bf6372"
      },
      "execution_count": 52,
      "outputs": [
        {
          "output_type": "execute_result",
          "data": {
            "text/plain": [
              "[[False, False], [False, True], [True, False], [True, True]]"
            ]
          },
          "metadata": {},
          "execution_count": 52
        }
      ]
    },
    {
      "cell_type": "code",
      "source": [
        "if ent_log[1][0] == ent_log[1][1]:\n",
        "    print (\"Falso\")\n",
        "else:\n",
        "    print (\"Verd\")"
      ],
      "metadata": {
        "colab": {
          "base_uri": "https://localhost:8080/"
        },
        "id": "6aifBlejUDs8",
        "outputId": "b3cc728a-8a20-4d07-efd2-6e4ec800824b"
      },
      "execution_count": 67,
      "outputs": [
        {
          "output_type": "stream",
          "name": "stdout",
          "text": [
            "Verd\n"
          ]
        }
      ]
    },
    {
      "cell_type": "code",
      "source": [
        "tx_aprend = float(input(print (\"Entre com taxa de aprendizagem: \")))\n",
        "nr_epocas = int(input(print (\"Entre com o número de épocas: \")))\n",
        "qtde_nos_escondidos = int(input(print (\"Entre com a qtde de nós da camada escondida: \")))"
      ],
      "metadata": {
        "colab": {
          "base_uri": "https://localhost:8080/"
        },
        "id": "RaOicnVHOJLP",
        "outputId": "acd7e562-763a-4a86-a860-342561518750"
      },
      "execution_count": 53,
      "outputs": [
        {
          "name": "stdout",
          "output_type": "stream",
          "text": [
            "Entre com taxa de aprendizagem: \n",
            "None0.002\n",
            "Entre com o número de épocas: \n",
            "None10000\n",
            "Entre com a qtde de nós da camada escondida: \n",
            "None3\n"
          ]
        }
      ]
    },
    {
      "cell_type": "code",
      "source": [
        "tx_aprend\n",
        "nr_epocas\n",
        "type(qtde_nos_escondidos)\n"
      ],
      "metadata": {
        "colab": {
          "base_uri": "https://localhost:8080/"
        },
        "id": "oICfSFAVPBZO",
        "outputId": "ce88f959-4005-4a03-c186-e53b54ead81d"
      },
      "execution_count": 55,
      "outputs": [
        {
          "output_type": "execute_result",
          "data": {
            "text/plain": [
              "int"
            ]
          },
          "metadata": {},
          "execution_count": 55
        }
      ]
    },
    {
      "cell_type": "code",
      "execution_count": 9,
      "metadata": {
        "id": "OQa_3LhuK9i6"
      },
      "outputs": [],
      "source": [
        "def calc_func_signoide (x):\n",
        "\n",
        "  return 1 / (1 + np.exp(-x))\n"
      ]
    },
    {
      "cell_type": "code",
      "source": [
        " calc_func_signoide(3)\n",
        "\n"
      ],
      "metadata": {
        "colab": {
          "base_uri": "https://localhost:8080/"
        },
        "id": "VmOsdZ9MIoN0",
        "outputId": "e360b30c-a175-49d0-c920-9110116ef9ec"
      },
      "execution_count": 11,
      "outputs": [
        {
          "output_type": "execute_result",
          "data": {
            "text/plain": [
              "0.9525741268224334"
            ]
          },
          "metadata": {},
          "execution_count": 11
        }
      ]
    },
    {
      "cell_type": "markdown",
      "source": [],
      "metadata": {
        "id": "cvPG3ovUNsk1"
      }
    },
    {
      "cell_type": "markdown",
      "source": [],
      "metadata": {
        "id": "baHzL0VlIdSF"
      }
    },
    {
      "cell_type": "code",
      "source": [
        "def calc_derivada_parcial (x):\n",
        "  return x * (1-x)"
      ],
      "metadata": {
        "id": "mGza50TXLcog"
      },
      "execution_count": 12,
      "outputs": []
    },
    {
      "cell_type": "code",
      "source": [
        "calc_derivada_parcial(calc_func_signoide(4))"
      ],
      "metadata": {
        "colab": {
          "base_uri": "https://localhost:8080/"
        },
        "id": "bnIY82ozLpHY",
        "outputId": "925fd5f4-8783-4ab9-f9eb-f1bd2ac94c38"
      },
      "execution_count": 14,
      "outputs": [
        {
          "output_type": "execute_result",
          "data": {
            "text/plain": [
              "0.017662706213291107"
            ]
          },
          "metadata": {},
          "execution_count": 14
        }
      ]
    },
    {
      "cell_type": "code",
      "source": [
        "def calc_func_logica (a, b):\n",
        "    ab ="
      ],
      "metadata": {
        "id": "6g2pFesHSydm"
      },
      "execution_count": null,
      "outputs": []
    },
    {
      "cell_type": "code",
      "source": [
        "#for ent in (entrada):\n",
        "print (entrada)"
      ],
      "metadata": {
        "colab": {
          "base_uri": "https://localhost:8080/"
        },
        "id": "FehKAJgOSMrm",
        "outputId": "5b85963d-872e-485c-baa3-df797a99c681"
      },
      "execution_count": 16,
      "outputs": [
        {
          "output_type": "stream",
          "name": "stdout",
          "text": [
            "[[0, 0], [0, 1], [1, 0], [1, 1]]\n"
          ]
        }
      ]
    },
    {
      "cell_type": "code",
      "source": [
        "# Inicialização dos pesos\n",
        "def inic_pesos(qtde_nos_escondidos, qtde_entrada, qtde_saida):\n",
        "    peso_ent_camada_oculta = np.random.rand(qtde_entrada, qtde_nos_escondidos)\n",
        "    peso_cam_oculta_saida = np.random.rand(qtde_nos_escondidos, qtde_saida)\n",
        "    return peso_ent_camada_oculta, peso_cam_oculta_saida"
      ],
      "metadata": {
        "id": "KcaUzlBGXdkh"
      },
      "execution_count": 82,
      "outputs": []
    },
    {
      "cell_type": "code",
      "source": [
        "(qtde_nos_escondidos)\n"
      ],
      "metadata": {
        "colab": {
          "base_uri": "https://localhost:8080/"
        },
        "id": "e-91vvNHq15K",
        "outputId": "25f64831-5ab4-4331-90df-bd17e763e5f4"
      },
      "execution_count": 58,
      "outputs": [
        {
          "output_type": "execute_result",
          "data": {
            "text/plain": [
              "3"
            ]
          },
          "metadata": {},
          "execution_count": 58
        }
      ]
    },
    {
      "cell_type": "code",
      "source": [
        "qtd_ent = dic_entrada['qtde_entrada']\n",
        "qtd_saida = dic_entrada['qtde_saida']\n",
        "type(qtd_saida)\n",
        "peso_ent_camada_oculta, peso_cam_oculta_saida = inic_pesos(qtde_nos_escondidos, qtd_ent, qtd_saida)\n",
        "print (peso_ent_camada_oculta, peso_cam_oculta_saida)"
      ],
      "metadata": {
        "colab": {
          "base_uri": "https://localhost:8080/"
        },
        "id": "Sa1nlX9wqNtC",
        "outputId": "ad5846a5-c094-45dc-a980-539ca89f2b02"
      },
      "execution_count": 84,
      "outputs": [
        {
          "output_type": "stream",
          "name": "stdout",
          "text": [
            "[[0.28752875 0.37402762 0.00391966]\n",
            " [0.5568294  0.70057045 0.13121969]] [[0.76984931]\n",
            " [0.99887408]\n",
            " [0.30043362]]\n"
          ]
        }
      ]
    },
    {
      "cell_type": "code",
      "source": [],
      "metadata": {
        "id": "GWYuYkme7_Yo"
      },
      "execution_count": null,
      "outputs": []
    },
    {
      "cell_type": "code",
      "source": [
        "def calc_soma_cam_oculta (qtde_nos_escondidos, )"
      ],
      "metadata": {
        "id": "-qGiOG_bouEC"
      },
      "execution_count": null,
      "outputs": []
    }
  ]
}