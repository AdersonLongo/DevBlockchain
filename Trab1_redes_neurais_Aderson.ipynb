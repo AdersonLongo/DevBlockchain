{
  "nbformat": 4,
  "nbformat_minor": 0,
  "metadata": {
    "colab": {
      "provenance": [],
      "authorship_tag": "ABX9TyM8eGp8bxhQTll1libPkbKQ",
      "include_colab_link": true
    },
    "kernelspec": {
      "name": "python3",
      "display_name": "Python 3"
    },
    "language_info": {
      "name": "python"
    }
  },
  "cells": [
    {
      "cell_type": "markdown",
      "metadata": {
        "id": "view-in-github",
        "colab_type": "text"
      },
      "source": [
        "<a href=\"https://colab.research.google.com/github/AdersonLongo/DevBlockchain/blob/main/Trab1_redes_neurais_Aderson.ipynb\" target=\"_parent\"><img src=\"https://colab.research.google.com/assets/colab-badge.svg\" alt=\"Open In Colab\"/></a>"
      ]
    },
    {
      "cell_type": "code",
      "source": [
        "import numpy as np\n",
        "\n",
        "dic_entrada = {'qtde_entrada': 2, 'qtde_saida': 1 }\n",
        "peso_ent_camada_oculta = []\n",
        "peso_cam_oculta_saida = []"
      ],
      "metadata": {
        "id": "deOFcVM0HTCv"
      },
      "execution_count": 73,
      "outputs": []
    },
    {
      "cell_type": "code",
      "source": [
        "X = [[0,0],[0,1],[1,0],[1,1]]\n",
        "ent_log = [[False,False],[False,True],[True,False],[True,True]]\n",
        "y = [0, 1, 1, 0]"
      ],
      "metadata": {
        "id": "F7uphEOCNtGO"
      },
      "execution_count": 74,
      "outputs": []
    },
    {
      "cell_type": "code",
      "source": [
        "if ent_log[1][0] == ent_log[1][1]:\n",
        "    print (\"Falso\")\n",
        "else:\n",
        "    print (\"Verd\")"
      ],
      "metadata": {
        "colab": {
          "base_uri": "https://localhost:8080/"
        },
        "id": "6aifBlejUDs8",
        "outputId": "26005d79-948a-4d90-e174-400c1b1b5688"
      },
      "execution_count": null,
      "outputs": [
        {
          "output_type": "stream",
          "name": "stdout",
          "text": [
            "Verd\n"
          ]
        }
      ]
    },
    {
      "cell_type": "code",
      "source": [
        "tx_aprend = float(input(print (\"Entre com taxa de aprendizagem: \")))\n",
        "nr_epocas = int(input(print (\"Entre com o número de épocas: \")))\n",
        "qtde_nos_escondidos = int(input(print (\"Entre com a qtde de nós da camada escondida: \")))"
      ],
      "metadata": {
        "colab": {
          "base_uri": "https://localhost:8080/"
        },
        "id": "RaOicnVHOJLP",
        "outputId": "953e0293-ae1e-4db8-e752-0e095617932f"
      },
      "execution_count": 75,
      "outputs": [
        {
          "name": "stdout",
          "output_type": "stream",
          "text": [
            "Entre com taxa de aprendizagem: \n",
            "None0.002\n",
            "Entre com o número de épocas: \n",
            "None10000\n",
            "Entre com a qtde de nós da camada escondida: \n",
            "None3\n"
          ]
        }
      ]
    },
    {
      "cell_type": "code",
      "execution_count": null,
      "metadata": {
        "id": "OQa_3LhuK9i6"
      },
      "outputs": [],
      "source": [
        "def calc_func_signoide (x):\n",
        "\n",
        "  return 1 / (1 + np.exp(-x))\n"
      ]
    },
    {
      "cell_type": "code",
      "source": [
        " calc_func_signoide(3)\n",
        "\n"
      ],
      "metadata": {
        "colab": {
          "base_uri": "https://localhost:8080/"
        },
        "id": "VmOsdZ9MIoN0",
        "outputId": "c9b0a108-e7f9-4a9c-9eb6-2a49d1f74a0e"
      },
      "execution_count": null,
      "outputs": [
        {
          "output_type": "execute_result",
          "data": {
            "text/plain": [
              "0.9525741268224334"
            ]
          },
          "metadata": {},
          "execution_count": 5
        }
      ]
    },
    {
      "cell_type": "code",
      "source": [
        "def calc_derivada_parcial (x):\n",
        "  return x * (1-x)"
      ],
      "metadata": {
        "id": "mGza50TXLcog"
      },
      "execution_count": null,
      "outputs": []
    },
    {
      "cell_type": "code",
      "source": [
        "calc_derivada_parcial(calc_func_signoide(4))"
      ],
      "metadata": {
        "colab": {
          "base_uri": "https://localhost:8080/"
        },
        "id": "bnIY82ozLpHY",
        "outputId": "ef487efd-5938-404a-ef77-6186b22a1fab"
      },
      "execution_count": null,
      "outputs": [
        {
          "output_type": "execute_result",
          "data": {
            "text/plain": [
              "0.017662706213291107"
            ]
          },
          "metadata": {},
          "execution_count": 7
        }
      ]
    },
    {
      "cell_type": "code",
      "source": [
        "def calc_func_logica (a, b):\n",
        "    pass"
      ],
      "metadata": {
        "id": "6g2pFesHSydm"
      },
      "execution_count": null,
      "outputs": []
    },
    {
      "cell_type": "code",
      "source": [
        "#for ent in (entrada):\n",
        "print (X)"
      ],
      "metadata": {
        "colab": {
          "base_uri": "https://localhost:8080/"
        },
        "id": "FehKAJgOSMrm",
        "outputId": "ef2eba8f-9765-4fde-e67a-4cc979d7707d"
      },
      "execution_count": null,
      "outputs": [
        {
          "output_type": "stream",
          "name": "stdout",
          "text": [
            "[[0, 0], [0, 1], [1, 0], [1, 1]]\n"
          ]
        }
      ]
    },
    {
      "cell_type": "code",
      "source": [
        "# Inicialização dos pesos\n",
        "def inic_pesos(qtde_nos_escondidos, qtde_entrada, qtde_saida):\n",
        "    peso_ent_camada_oculta = np.random.rand(qtde_entrada, qtde_nos_escondidos)\n",
        "    peso_cam_oculta_saida = np.random.rand(qtde_nos_escondidos, qtde_saida)\n",
        "    return peso_ent_camada_oculta, peso_cam_oculta_saida"
      ],
      "metadata": {
        "id": "KcaUzlBGXdkh"
      },
      "execution_count": 76,
      "outputs": []
    },
    {
      "cell_type": "code",
      "source": [
        "qtd_ent = dic_entrada['qtde_entrada']\n",
        "qtd_saida = dic_entrada['qtde_saida']\n",
        "type(qtd_saida)\n",
        "peso_ent_camada_oculta, peso_cam_oculta_saida = inic_pesos(qtde_nos_escondidos, qtd_ent, qtd_saida)\n",
        "#print (peso_ent_camada_oculta, peso_cam_oculta_saida)"
      ],
      "metadata": {
        "id": "Sa1nlX9wqNtC"
      },
      "execution_count": 77,
      "outputs": []
    },
    {
      "cell_type": "code",
      "source": [
        "peso_ent_camada_oculta"
      ],
      "metadata": {
        "colab": {
          "base_uri": "https://localhost:8080/"
        },
        "id": "3OphehWAe66v",
        "outputId": "138a2c11-90b5-4c17-e33e-bbd4b0e33028"
      },
      "execution_count": null,
      "outputs": [
        {
          "output_type": "execute_result",
          "data": {
            "text/plain": [
              "array([[0.22959216, 0.05999333, 0.33623722],\n",
              "       [0.81202086, 0.94946785, 0.1739501 ]])"
            ]
          },
          "metadata": {},
          "execution_count": 22
        }
      ]
    },
    {
      "cell_type": "code",
      "source": [
        "#from re import T\n",
        "def calc_fluxo_volta (X, y, tx_aprend ): #, peso_cam_oculta_saida, peso_ent_camada_oculta):\n",
        "\n",
        "#    output_error = y - output\n",
        "#    output_delta = output_error * sigmoid_derivative(output)\n",
        "\n",
        "#    hidden_error = output_delta.dot(weights_hidden_output.T)\n",
        "#    hidden_delta = hidden_error * sigmoid_derivative(hidden_output)\n",
        "#    if epoch % 1000 == 0:\n",
        "#        print(f'Error: {np.mean(np.abs(y - output)):.4f}')\n",
        "#    # Atualização dos pesos\n",
        "#    weights_hidden_output += hidden_output.T.dot(output_delta) * learning_rate\n",
        "#    weights_input_hidden += X.T.dot(hidden_delta) * learning_rate\n",
        "\n",
        "    # Calculando o erro na camada de saída\n",
        "    erro_saida = y - saida[0]\n",
        "    # Atualizando os pesos da camada de saída\n",
        "    delta_output = erro_saida * calc_derivada_parcial(saida[0])\n",
        "\n",
        "    # Calculando o erro na camada oculta\n",
        "    hidden_error = delta_output.dot(peso_ent_camada_oculta.T)\n",
        "    hidden_delta = hidden_error * sigmoid_derivative(hidden_output)\n",
        "    if epoch % 1000 == 0:\n",
        "        print(f'Error: {np.mean(np.abs(y - output)):.4f}')\n",
        "\n",
        "    peso_cam_oculta_saida += np.dot(erro_saida.T, delta_output) * tx_aprend\n",
        "    #bias_output += np.sum(delta_output, axis=0, keepdims=True) * tx_aprend\n",
        "    #print ('bias_output: ', bias_output)\n",
        "\n",
        "    # Atualizando os pesos da camada oculta\n",
        "    delta_hidden = hidden_error * calc_derivada_parcial(erro_saida)\n",
        "    peso_ent_camada_oculta += np.dot(X.T, delta_hidden) * tx_aprend\n",
        "    #bias_hidden += np.sum(delta_hidden, axis=0, keepdims=True) * tx_aprend\n",
        "\n",
        "#calc_soma_cam_oculta(entrada, qtde_nos_escondidos, peso_ent_camada_oculta)"
      ],
      "metadata": {
        "id": "-qGiOG_bouEC"
      },
      "execution_count": 78,
      "outputs": []
    },
    {
      "cell_type": "code",
      "source": [
        "def calc_fluxo_ida(X):\n",
        "    # Camada oculta\n",
        "    # Calcula para cada nó o\n",
        "    hidden_input = np.dot(X, peso_ent_camada_oculta)\n",
        "    hidden_output = sigmoid(hidden_input)\n",
        "    type(hidden_output)\n",
        "\n",
        "    output_input = np.dot(hidden_output, peso_cam_oculta_saida) #hidden_output.T.dot(hidden_output) #np.dot(hidden_output, weights_hidden_output) #hidden_output@weights_hidden_output\n",
        "    output = sigmoid(output_input)\n",
        "    saida = [output, hidden_output]\n",
        "    print ('peso_cam_oculta_saida: ', peso_cam_oculta_saida)\n",
        "    print ('peso_ent_camada_oculta: ', peso_ent_camada_oculta)\n",
        "\n",
        "    # Camada de saída\n",
        "    return saida #output"
      ],
      "metadata": {
        "id": "CC0z-qRVeJYC"
      },
      "execution_count": 83,
      "outputs": []
    },
    {
      "cell_type": "code",
      "source": [
        "# Para cada epoca, calcula o\n",
        "\n",
        "for epoca in range(nr_epocas):\n",
        "    saida = calc_fluxo_ida(X)\n",
        "    print ('saida[0]: ', saida[0])\n",
        "    calc_fluxo_volta(X, y, tx_aprend) #, peso_cam_oculta_saida, peso_ent_camada_oculta)\n",
        "    if epoca % 1000 == 0:\n",
        "        print(f'Error: {np.mean(np.abs(y - saida[0])):.4f}')\n",
        "\n",
        "print(\"Output after training:\")\n",
        "print(calc_fluxo_ida(X))"
      ],
      "metadata": {
        "colab": {
          "base_uri": "https://localhost:8080/",
          "height": 488
        },
        "id": "vcJTZxKdhkBJ",
        "outputId": "fd9c1428-1d65-456a-e35d-73195c52536a"
      },
      "execution_count": 84,
      "outputs": [
        {
          "output_type": "stream",
          "name": "stdout",
          "text": [
            "peso_cam_oculta_saida:  [[0.51423444]\n",
            " [0.59241457]\n",
            " [0.04645041]]\n",
            "peso_ent_camada_oculta:  [[0.13949386 0.29214465 0.36636184]\n",
            " [0.45606998 0.78517596 0.19967378]]\n",
            "saida[0]:  [[0.64027311]\n",
            " [0.67855885]\n",
            " [0.65512044]\n",
            " [0.69062826]]\n"
          ]
        },
        {
          "output_type": "error",
          "ename": "UnboundLocalError",
          "evalue": "local variable 'peso_ent_camada_oculta' referenced before assignment",
          "traceback": [
            "\u001b[0;31m---------------------------------------------------------------------------\u001b[0m",
            "\u001b[0;31mUnboundLocalError\u001b[0m                         Traceback (most recent call last)",
            "\u001b[0;32m<ipython-input-84-f062899115de>\u001b[0m in \u001b[0;36m<cell line: 3>\u001b[0;34m()\u001b[0m\n\u001b[1;32m      4\u001b[0m     \u001b[0msaida\u001b[0m \u001b[0;34m=\u001b[0m \u001b[0mcalc_fluxo_ida\u001b[0m\u001b[0;34m(\u001b[0m\u001b[0mX\u001b[0m\u001b[0;34m)\u001b[0m\u001b[0;34m\u001b[0m\u001b[0;34m\u001b[0m\u001b[0m\n\u001b[1;32m      5\u001b[0m     \u001b[0mprint\u001b[0m \u001b[0;34m(\u001b[0m\u001b[0;34m'saida[0]: '\u001b[0m\u001b[0;34m,\u001b[0m \u001b[0msaida\u001b[0m\u001b[0;34m[\u001b[0m\u001b[0;36m0\u001b[0m\u001b[0;34m]\u001b[0m\u001b[0;34m)\u001b[0m\u001b[0;34m\u001b[0m\u001b[0;34m\u001b[0m\u001b[0m\n\u001b[0;32m----> 6\u001b[0;31m     \u001b[0mcalc_fluxo_volta\u001b[0m\u001b[0;34m(\u001b[0m\u001b[0mX\u001b[0m\u001b[0;34m,\u001b[0m \u001b[0my\u001b[0m\u001b[0;34m,\u001b[0m \u001b[0mtx_aprend\u001b[0m\u001b[0;34m)\u001b[0m \u001b[0;31m#, peso_cam_oculta_saida, peso_ent_camada_oculta)\u001b[0m\u001b[0;34m\u001b[0m\u001b[0;34m\u001b[0m\u001b[0m\n\u001b[0m\u001b[1;32m      7\u001b[0m     \u001b[0;32mif\u001b[0m \u001b[0mepoca\u001b[0m \u001b[0;34m%\u001b[0m \u001b[0;36m1000\u001b[0m \u001b[0;34m==\u001b[0m \u001b[0;36m0\u001b[0m\u001b[0;34m:\u001b[0m\u001b[0;34m\u001b[0m\u001b[0;34m\u001b[0m\u001b[0m\n\u001b[1;32m      8\u001b[0m         \u001b[0mprint\u001b[0m\u001b[0;34m(\u001b[0m\u001b[0;34mf'Error: {np.mean(np.abs(y - saida[0])):.4f}'\u001b[0m\u001b[0;34m)\u001b[0m\u001b[0;34m\u001b[0m\u001b[0;34m\u001b[0m\u001b[0m\n",
            "\u001b[0;32m<ipython-input-78-cf5555a37e03>\u001b[0m in \u001b[0;36mcalc_fluxo_volta\u001b[0;34m(X, y, tx_aprend)\u001b[0m\n\u001b[1;32m     19\u001b[0m \u001b[0;34m\u001b[0m\u001b[0m\n\u001b[1;32m     20\u001b[0m     \u001b[0;31m# Calculando o erro na camada oculta\u001b[0m\u001b[0;34m\u001b[0m\u001b[0;34m\u001b[0m\u001b[0m\n\u001b[0;32m---> 21\u001b[0;31m     \u001b[0mhidden_error\u001b[0m \u001b[0;34m=\u001b[0m \u001b[0mdelta_output\u001b[0m\u001b[0;34m.\u001b[0m\u001b[0mdot\u001b[0m\u001b[0;34m(\u001b[0m\u001b[0mpeso_ent_camada_oculta\u001b[0m\u001b[0;34m.\u001b[0m\u001b[0mT\u001b[0m\u001b[0;34m)\u001b[0m\u001b[0;34m\u001b[0m\u001b[0;34m\u001b[0m\u001b[0m\n\u001b[0m\u001b[1;32m     22\u001b[0m     \u001b[0mhidden_delta\u001b[0m \u001b[0;34m=\u001b[0m \u001b[0mhidden_error\u001b[0m \u001b[0;34m*\u001b[0m \u001b[0msigmoid_derivative\u001b[0m\u001b[0;34m(\u001b[0m\u001b[0mhidden_output\u001b[0m\u001b[0;34m)\u001b[0m\u001b[0;34m\u001b[0m\u001b[0;34m\u001b[0m\u001b[0m\n\u001b[1;32m     23\u001b[0m     \u001b[0;32mif\u001b[0m \u001b[0mepoch\u001b[0m \u001b[0;34m%\u001b[0m \u001b[0;36m1000\u001b[0m \u001b[0;34m==\u001b[0m \u001b[0;36m0\u001b[0m\u001b[0;34m:\u001b[0m\u001b[0;34m\u001b[0m\u001b[0;34m\u001b[0m\u001b[0m\n",
            "\u001b[0;31mUnboundLocalError\u001b[0m: local variable 'peso_ent_camada_oculta' referenced before assignment"
          ]
        }
      ]
    },
    {
      "cell_type": "code",
      "source": [],
      "metadata": {
        "id": "Xj8ILMxHxlHE"
      },
      "execution_count": null,
      "outputs": []
    }
  ]
}