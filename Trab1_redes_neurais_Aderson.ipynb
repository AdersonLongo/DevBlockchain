{
  "nbformat": 4,
  "nbformat_minor": 0,
  "metadata": {
    "colab": {
      "provenance": [],
      "authorship_tag": "ABX9TyM69/2fsVc8DvajSQuStpSx",
      "include_colab_link": true
    },
    "kernelspec": {
      "name": "python3",
      "display_name": "Python 3"
    },
    "language_info": {
      "name": "python"
    }
  },
  "cells": [
    {
      "cell_type": "markdown",
      "metadata": {
        "id": "view-in-github",
        "colab_type": "text"
      },
      "source": [
        "<a href=\"https://colab.research.google.com/github/AdersonLongo/DevBlockchain/blob/main/Trab1_redes_neurais_Aderson.ipynb\" target=\"_parent\"><img src=\"https://colab.research.google.com/assets/colab-badge.svg\" alt=\"Open In Colab\"/></a>"
      ]
    },
    {
      "cell_type": "code",
      "source": [
        "import numpy as np\n",
        "import enum\n",
        "\n",
        "class Numeros(enum.Enum):\n",
        "    qtde_entrada = 2\n",
        "    qtde_saida = 1"
      ],
      "metadata": {
        "id": "deOFcVM0HTCv"
      },
      "execution_count": 2,
      "outputs": []
    },
    {
      "cell_type": "code",
      "source": [
        "entrada = [[0,0],[0,1],[1,0],[1,1]]\n",
        "ent_log = [[False,False],[False,True],[True,False],[True,True]]\n",
        "result_esp = [0, 1, 1, 0]"
      ],
      "metadata": {
        "id": "F7uphEOCNtGO"
      },
      "execution_count": 3,
      "outputs": []
    },
    {
      "cell_type": "code",
      "source": [
        "ent_log"
      ],
      "metadata": {
        "colab": {
          "base_uri": "https://localhost:8080/"
        },
        "id": "eXZGKrUKT_NV",
        "outputId": "ccac6c79-844f-4e6f-8d54-7d18a9bf6372"
      },
      "execution_count": 52,
      "outputs": [
        {
          "output_type": "execute_result",
          "data": {
            "text/plain": [
              "[[False, False], [False, True], [True, False], [True, True]]"
            ]
          },
          "metadata": {},
          "execution_count": 52
        }
      ]
    },
    {
      "cell_type": "code",
      "source": [
        "if ent_log[1][0] == ent_log[1][1]:\n",
        "    print (\"Falso\")\n",
        "else:\n",
        "    print (\"Verd\")"
      ],
      "metadata": {
        "colab": {
          "base_uri": "https://localhost:8080/"
        },
        "id": "6aifBlejUDs8",
        "outputId": "b3cc728a-8a20-4d07-efd2-6e4ec800824b"
      },
      "execution_count": 67,
      "outputs": [
        {
          "output_type": "stream",
          "name": "stdout",
          "text": [
            "Verd\n"
          ]
        }
      ]
    },
    {
      "cell_type": "code",
      "source": [
        "tx_aprend = input(print (\"Entre com taxa de aprendizagem: \"))\n",
        "nr_epocas = input(print (\"Entre com o número de épocas: \"))\n",
        "qtde_nos_escondidos = input(print (\"Entre com a qtde de nós da camada escondida: \"))"
      ],
      "metadata": {
        "colab": {
          "base_uri": "https://localhost:8080/"
        },
        "id": "RaOicnVHOJLP",
        "outputId": "10c45cb9-44cb-4c8c-b12b-d1317ef55fa0"
      },
      "execution_count": 4,
      "outputs": [
        {
          "name": "stdout",
          "output_type": "stream",
          "text": [
            "Entre com taxa de aprendizagem: \n",
            "None0,002\n",
            "Entre com o número de épocas: \n",
            "None1000\n",
            "Entre com a qtde de nós da camada escondida: \n",
            "None3\n"
          ]
        }
      ]
    },
    {
      "cell_type": "code",
      "source": [
        "tx_aprend\n",
        "nr_epocas\n",
        "qtde_nos_escondidos"
      ],
      "metadata": {
        "colab": {
          "base_uri": "https://localhost:8080/",
          "height": 36
        },
        "id": "oICfSFAVPBZO",
        "outputId": "97799e89-e90d-4339-a434-02e1679af53e"
      },
      "execution_count": 8,
      "outputs": [
        {
          "output_type": "execute_result",
          "data": {
            "text/plain": [
              "'3'"
            ],
            "application/vnd.google.colaboratory.intrinsic+json": {
              "type": "string"
            }
          },
          "metadata": {},
          "execution_count": 8
        }
      ]
    },
    {
      "cell_type": "code",
      "execution_count": 9,
      "metadata": {
        "id": "OQa_3LhuK9i6"
      },
      "outputs": [],
      "source": [
        "def calc_func_signoide (x):\n",
        "\n",
        "  return 1 / (1 + np.exp(-x))\n"
      ]
    },
    {
      "cell_type": "code",
      "source": [
        " calc_func_signoide(3)\n",
        "\n"
      ],
      "metadata": {
        "colab": {
          "base_uri": "https://localhost:8080/"
        },
        "id": "VmOsdZ9MIoN0",
        "outputId": "e360b30c-a175-49d0-c920-9110116ef9ec"
      },
      "execution_count": 11,
      "outputs": [
        {
          "output_type": "execute_result",
          "data": {
            "text/plain": [
              "0.9525741268224334"
            ]
          },
          "metadata": {},
          "execution_count": 11
        }
      ]
    },
    {
      "cell_type": "markdown",
      "source": [],
      "metadata": {
        "id": "cvPG3ovUNsk1"
      }
    },
    {
      "cell_type": "markdown",
      "source": [],
      "metadata": {
        "id": "baHzL0VlIdSF"
      }
    },
    {
      "cell_type": "code",
      "source": [
        "def calc_derivada_parcial (x):\n",
        "  return x * (1-x)"
      ],
      "metadata": {
        "id": "mGza50TXLcog"
      },
      "execution_count": 12,
      "outputs": []
    },
    {
      "cell_type": "code",
      "source": [
        "calc_derivada_parcial(calc_func_signoide(4))"
      ],
      "metadata": {
        "colab": {
          "base_uri": "https://localhost:8080/"
        },
        "id": "bnIY82ozLpHY",
        "outputId": "925fd5f4-8783-4ab9-f9eb-f1bd2ac94c38"
      },
      "execution_count": 14,
      "outputs": [
        {
          "output_type": "execute_result",
          "data": {
            "text/plain": [
              "0.017662706213291107"
            ]
          },
          "metadata": {},
          "execution_count": 14
        }
      ]
    },
    {
      "cell_type": "code",
      "source": [
        "def calc_func_logica (a, b):\n",
        "    ab ="
      ],
      "metadata": {
        "id": "6g2pFesHSydm"
      },
      "execution_count": null,
      "outputs": []
    },
    {
      "cell_type": "code",
      "source": [
        "#for ent in (entrada):\n",
        "print (entrada)"
      ],
      "metadata": {
        "colab": {
          "base_uri": "https://localhost:8080/"
        },
        "id": "FehKAJgOSMrm",
        "outputId": "5b85963d-872e-485c-baa3-df797a99c681"
      },
      "execution_count": 16,
      "outputs": [
        {
          "output_type": "stream",
          "name": "stdout",
          "text": [
            "[[0, 0], [0, 1], [1, 0], [1, 1]]\n"
          ]
        }
      ]
    },
    {
      "cell_type": "code",
      "source": [
        "# Inicialização dos pesos\n",
        "def inic_pesos(qtde_nos_escondidos, qtde_entrada, qtde_saida):\n",
        "    peso_ent_camada_oculta = np.random.rand(Numeros.qtde_entrada, Numeros.qtde_nos_escondidos)\n",
        "    peso_cam_oculta_saida = np.random.rand(qtde_nos_escondidos, qtde_saida)\n"
      ],
      "metadata": {
        "id": "KcaUzlBGXdkh"
      },
      "execution_count": 29,
      "outputs": []
    },
    {
      "cell_type": "code",
      "source": [
        "Numeros.qtde_entrada"
      ],
      "metadata": {
        "colab": {
          "base_uri": "https://localhost:8080/"
        },
        "id": "e-91vvNHq15K",
        "outputId": "ed880aeb-9315-4ad2-e85b-26751a2e9e98"
      },
      "execution_count": 27,
      "outputs": [
        {
          "output_type": "execute_result",
          "data": {
            "text/plain": [
              "<Numeros.qtde_entrada: 2>"
            ]
          },
          "metadata": {},
          "execution_count": 27
        }
      ]
    },
    {
      "cell_type": "code",
      "source": [
        "inic_pesos(qtde_nos_escondidos, Numeros.qtde_entrada, Numeros.qtde_saida)"
      ],
      "metadata": {
        "colab": {
          "base_uri": "https://localhost:8080/",
          "height": 349
        },
        "id": "Sa1nlX9wqNtC",
        "outputId": "3d6b863e-def6-4311-ddbf-c82cf192a350"
      },
      "execution_count": 30,
      "outputs": [
        {
          "output_type": "error",
          "ename": "TypeError",
          "evalue": "'Numeros' object cannot be interpreted as an integer",
          "traceback": [
            "\u001b[0;31m---------------------------------------------------------------------------\u001b[0m",
            "\u001b[0;31mTypeError\u001b[0m                                 Traceback (most recent call last)",
            "\u001b[0;32m<ipython-input-30-3fc5d5949f93>\u001b[0m in \u001b[0;36m<cell line: 1>\u001b[0;34m()\u001b[0m\n\u001b[0;32m----> 1\u001b[0;31m \u001b[0minic_pesos\u001b[0m\u001b[0;34m(\u001b[0m\u001b[0mqtde_nos_escondidos\u001b[0m\u001b[0;34m,\u001b[0m \u001b[0mNumeros\u001b[0m\u001b[0;34m.\u001b[0m\u001b[0mqtde_entrada\u001b[0m\u001b[0;34m,\u001b[0m \u001b[0mNumeros\u001b[0m\u001b[0;34m.\u001b[0m\u001b[0mqtde_saida\u001b[0m\u001b[0;34m)\u001b[0m\u001b[0;34m\u001b[0m\u001b[0;34m\u001b[0m\u001b[0m\n\u001b[0m",
            "\u001b[0;32m<ipython-input-29-d1f62118031d>\u001b[0m in \u001b[0;36minic_pesos\u001b[0;34m(qtde_nos_escondidos, qtde_entrada, qtde_saida)\u001b[0m\n\u001b[1;32m      1\u001b[0m \u001b[0;31m# Inicialização dos pesos\u001b[0m\u001b[0;34m\u001b[0m\u001b[0;34m\u001b[0m\u001b[0m\n\u001b[1;32m      2\u001b[0m \u001b[0;32mdef\u001b[0m \u001b[0minic_pesos\u001b[0m\u001b[0;34m(\u001b[0m\u001b[0mqtde_nos_escondidos\u001b[0m\u001b[0;34m,\u001b[0m \u001b[0mqtde_entrada\u001b[0m\u001b[0;34m,\u001b[0m \u001b[0mqtde_saida\u001b[0m\u001b[0;34m)\u001b[0m\u001b[0;34m:\u001b[0m\u001b[0;34m\u001b[0m\u001b[0;34m\u001b[0m\u001b[0m\n\u001b[0;32m----> 3\u001b[0;31m     \u001b[0mpeso_ent_camada_oculta\u001b[0m \u001b[0;34m=\u001b[0m \u001b[0mnp\u001b[0m\u001b[0;34m.\u001b[0m\u001b[0mrandom\u001b[0m\u001b[0;34m.\u001b[0m\u001b[0mrand\u001b[0m\u001b[0;34m(\u001b[0m\u001b[0mqtde_entrada\u001b[0m\u001b[0;34m,\u001b[0m \u001b[0mqtde_nos_escondidos\u001b[0m\u001b[0;34m)\u001b[0m\u001b[0;34m\u001b[0m\u001b[0;34m\u001b[0m\u001b[0m\n\u001b[0m\u001b[1;32m      4\u001b[0m     \u001b[0mpeso_cam_oculta_saida\u001b[0m \u001b[0;34m=\u001b[0m \u001b[0mnp\u001b[0m\u001b[0;34m.\u001b[0m\u001b[0mrandom\u001b[0m\u001b[0;34m.\u001b[0m\u001b[0mrand\u001b[0m\u001b[0;34m(\u001b[0m\u001b[0mqtde_nos_escondidos\u001b[0m\u001b[0;34m,\u001b[0m \u001b[0mqtde_saida\u001b[0m\u001b[0;34m)\u001b[0m\u001b[0;34m\u001b[0m\u001b[0;34m\u001b[0m\u001b[0m\n",
            "\u001b[0;32mmtrand.pyx\u001b[0m in \u001b[0;36mnumpy.random.mtrand.RandomState.rand\u001b[0;34m()\u001b[0m\n",
            "\u001b[0;32mmtrand.pyx\u001b[0m in \u001b[0;36mnumpy.random.mtrand.RandomState.random_sample\u001b[0;34m()\u001b[0m\n",
            "\u001b[0;32m_common.pyx\u001b[0m in \u001b[0;36mnumpy.random._common.double_fill\u001b[0;34m()\u001b[0m\n",
            "\u001b[0;31mTypeError\u001b[0m: 'Numeros' object cannot be interpreted as an integer"
          ]
        }
      ]
    },
    {
      "cell_type": "code",
      "source": [
        "def calc_soma_cam_oculta (qtde_nos_escondidos, )"
      ],
      "metadata": {
        "id": "-qGiOG_bouEC"
      },
      "execution_count": null,
      "outputs": []
    }
  ]
}