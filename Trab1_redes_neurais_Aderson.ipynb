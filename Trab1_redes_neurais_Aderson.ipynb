{
  "nbformat": 4,
  "nbformat_minor": 0,
  "metadata": {
    "colab": {
      "provenance": [],
      "authorship_tag": "ABX9TyPVV8dBLEI639SHVciAzjLe",
      "include_colab_link": true
    },
    "kernelspec": {
      "name": "python3",
      "display_name": "Python 3"
    },
    "language_info": {
      "name": "python"
    }
  },
  "cells": [
    {
      "cell_type": "markdown",
      "metadata": {
        "id": "view-in-github",
        "colab_type": "text"
      },
      "source": [
        "<a href=\"https://colab.research.google.com/github/AdersonLongo/DevBlockchain/blob/main/Trab1_redes_neurais_Aderson.ipynb\" target=\"_parent\"><img src=\"https://colab.research.google.com/assets/colab-badge.svg\" alt=\"Open In Colab\"/></a>"
      ]
    },
    {
      "cell_type": "code",
      "source": [
        "X = [[0,0],[0,1],[1,0],[1,1]]\n",
        "y = [0, 1, 1, 0]"
      ],
      "metadata": {
        "id": "F7uphEOCNtGO"
      },
      "execution_count": 200,
      "outputs": []
    },
    {
      "cell_type": "code",
      "source": [
        "import numpy as np\n",
        "\n",
        "dic_entrada = {'qtde_entrada': 2, 'qtde_saida': 1 }\n",
        "peso_ent_camada_oculta = []\n",
        "peso_cam_oculta_saida = []"
      ],
      "metadata": {
        "id": "deOFcVM0HTCv"
      },
      "execution_count": 73,
      "outputs": []
    },
    {
      "cell_type": "code",
      "source": [
        "tx_aprend = float(input(print (\"Entre com taxa de aprendizagem: \")))\n",
        "nr_epocas = int(input(print (\"Entre com o número de épocas: \")))\n",
        "qtde_nos_escondidos = int(input(print (\"Entre com a qtde de nós da camada escondida: \")))"
      ],
      "metadata": {
        "colab": {
          "base_uri": "https://localhost:8080/"
        },
        "id": "RaOicnVHOJLP",
        "outputId": "8041e0bd-96b1-4826-95de-a86f8dc898e7"
      },
      "execution_count": 201,
      "outputs": [
        {
          "name": "stdout",
          "output_type": "stream",
          "text": [
            "Entre com taxa de aprendizagem: \n",
            "None0.1\n",
            "Entre com o número de épocas: \n",
            "None10000\n",
            "Entre com a qtde de nós da camada escondida: \n",
            "None3\n"
          ]
        }
      ]
    },
    {
      "cell_type": "code",
      "execution_count": null,
      "metadata": {
        "id": "OQa_3LhuK9i6"
      },
      "outputs": [],
      "source": [
        "def calc_func_signoide (x):\n",
        "\n",
        "  return 1 / (1 + np.exp(-x))\n"
      ]
    },
    {
      "cell_type": "code",
      "source": [
        "def calc_derivada_parcial (x):\n",
        "  return x * (1-x)"
      ],
      "metadata": {
        "id": "mGza50TXLcog"
      },
      "execution_count": null,
      "outputs": []
    },
    {
      "cell_type": "code",
      "source": [
        "qtd_ent = dic_entrada['qtde_entrada']\n",
        "qtd_saida = dic_entrada['qtde_saida']\n",
        "type(qtd_saida)\n",
        "peso_ent_camada_oculta, peso_cam_oculta_saida = inic_pesos(qtde_nos_escondidos, qtd_ent, qtd_saida)\n",
        "#print (peso_ent_camada_oculta, peso_cam_oculta_saida)"
      ],
      "metadata": {
        "id": "Sa1nlX9wqNtC"
      },
      "execution_count": 202,
      "outputs": []
    },
    {
      "cell_type": "code",
      "source": [
        "def calc_back(X, peso_ent_camada_oculta, peso_cam_oculta_saida, output):\n",
        "    # Backpropagation\n",
        "    output_error = y - output\n",
        "    output_delta = output_error * sigmoid_derivative(output)\n",
        "\n",
        "    hidden_error = output_delta.dot(peso_cam_oculta_saida.T)\n",
        "    erro_saida = hidden_error * sigmoid_derivative(hidden_output)\n",
        "    if epoch % 1000 == 0:\n",
        "        print(f'Error: {np.mean(np.abs(y - output)):.4f}')\n",
        "\n",
        "    # Atualizando os pesos da camada de saída\n",
        "    delta_output = output_error * sigmoid_derivative(output)\n",
        "    peso_cam_oculta_saida += np.dot(hidden_output.T, delta_output) * learning_rate\n",
        "\n",
        "    # Calculando o erro na camada oculta\n",
        "    hidden_error = np.dot(delta_output, peso_cam_oculta_saida.T)\n",
        "\n",
        "    # Atualizando os pesos da camada oculta\n",
        "    delta_hidden = hidden_error * sigmoid_derivative(hidden_output)\n",
        "    peso_ent_camada_oculta += np.dot(X.T, delta_hidden) * learning_rate\n"
      ],
      "metadata": {
        "id": "-qGiOG_bouEC"
      },
      "execution_count": 206,
      "outputs": []
    },
    {
      "cell_type": "code",
      "source": [
        "def calc_fluxo_ida(X, peso_ent_camada_oculta, peso_cam_oculta_saida):\n",
        "    # Camada oculta\n",
        "    # Calcula para cada nó o\n",
        "    hidden_input = np.dot(X, peso_ent_camada_oculta)\n",
        "    hidden_output = sigmoid(hidden_input)\n",
        "\n",
        "    output_input = np.dot(hidden_output, peso_cam_oculta_saida) #hidden_output.T.dot(hidden_output) #np.dot(hidden_output, weights_hidden_output) #hidden_output@weights_hidden_output\n",
        "    output = sigmoid(output_input)\n",
        "#    calc_back(X, peso_ent_camada_oculta, peso_cam_oculta_saida, output)\n",
        "#    saida = [output, hidden_output]\n",
        "#    return saida\n",
        "\n",
        "#def calc_back(X, peso_ent_camada_oculta, peso_cam_oculta_saida, output):\n",
        "    # Backpropagation\n",
        "    output_error = y - output\n",
        "    output_delta = output_error * sigmoid_derivative(output)\n",
        "\n",
        "    hidden_error = output_delta.dot(peso_cam_oculta_saida.T)\n",
        "    erro_saida = hidden_error * sigmoid_derivative(hidden_output)\n",
        "    if epoch % 1000 == 0:\n",
        "        print(f'Error: {np.mean(np.abs(y - output)):.4f}')\n",
        "\n",
        "    # Atualizando os pesos da camada de saída\n",
        "    delta_output = output_error * sigmoid_derivative(output)\n",
        "    peso_cam_oculta_saida += np.dot(hidden_output.T, delta_output) * learning_rate\n",
        "\n",
        "    # Calculando o erro na camada oculta\n",
        "    hidden_error = np.dot(delta_output, peso_cam_oculta_saida.T)\n",
        "\n",
        "    # Atualizando os pesos da camada oculta\n",
        "    delta_hidden = hidden_error * sigmoid_derivative(hidden_output)\n",
        "    peso_ent_camada_oculta += np.dot(X.T, delta_hidden) * learning_rate\n",
        "\n",
        "    saida = [output, hidden_output]\n",
        "    return saida\n"
      ],
      "metadata": {
        "id": "CC0z-qRVeJYC"
      },
      "execution_count": 214,
      "outputs": []
    },
    {
      "cell_type": "code",
      "source": [
        "# Para cada epoca, calcula o\n",
        "\n",
        "for epoca in range(nr_epocas):\n",
        "    saida = calc_fluxo_ida(X, peso_ent_camada_oculta, peso_cam_oculta_saida)\n",
        "#    print ('saida[0]: ', saida[0])\n",
        "    #calc_fluxo_volta(X, y, tx_aprend, peso_ent_camada_oculta, peso_cam_oculta_saida)\n",
        "    if epoca % 1000 == 0:\n",
        "        print(f'Error: {np.mean(np.abs(y - saida[0])):.4f}')\n",
        "\n",
        "print(\"Saída depois do treinamento:\")\n",
        "print(saida[0], \"\\n\")\n",
        "print (\"Pesos entre camada de entrada e ocultas: \", peso_ent_camada_oculta, \"\\n\")\n",
        "print (\"Pesos entre camadas e de saída: \", peso_cam_oculta_saida, \"\\n\")"
      ],
      "metadata": {
        "colab": {
          "base_uri": "https://localhost:8080/",
          "height": 332
        },
        "id": "vcJTZxKdhkBJ",
        "outputId": "8cd0f4c4-0a35-4b08-9ea9-457e73607a06"
      },
      "execution_count": 215,
      "outputs": [
        {
          "output_type": "error",
          "ename": "ValueError",
          "evalue": "shapes (4,4) and (1,3) not aligned: 4 (dim 1) != 1 (dim 0)",
          "traceback": [
            "\u001b[0;31m---------------------------------------------------------------------------\u001b[0m",
            "\u001b[0;31mValueError\u001b[0m                                Traceback (most recent call last)",
            "\u001b[0;32m<ipython-input-215-d05fb5e1a194>\u001b[0m in \u001b[0;36m<cell line: 3>\u001b[0;34m()\u001b[0m\n\u001b[1;32m      2\u001b[0m \u001b[0;34m\u001b[0m\u001b[0m\n\u001b[1;32m      3\u001b[0m \u001b[0;32mfor\u001b[0m \u001b[0mepoca\u001b[0m \u001b[0;32min\u001b[0m \u001b[0mrange\u001b[0m\u001b[0;34m(\u001b[0m\u001b[0mnr_epocas\u001b[0m\u001b[0;34m)\u001b[0m\u001b[0;34m:\u001b[0m\u001b[0;34m\u001b[0m\u001b[0;34m\u001b[0m\u001b[0m\n\u001b[0;32m----> 4\u001b[0;31m     \u001b[0msaida\u001b[0m \u001b[0;34m=\u001b[0m \u001b[0mcalc_fluxo_ida\u001b[0m\u001b[0;34m(\u001b[0m\u001b[0mX\u001b[0m\u001b[0;34m,\u001b[0m \u001b[0mpeso_ent_camada_oculta\u001b[0m\u001b[0;34m,\u001b[0m \u001b[0mpeso_cam_oculta_saida\u001b[0m\u001b[0;34m)\u001b[0m\u001b[0;34m\u001b[0m\u001b[0;34m\u001b[0m\u001b[0m\n\u001b[0m\u001b[1;32m      5\u001b[0m \u001b[0;31m#    print ('saida[0]: ', saida[0])\u001b[0m\u001b[0;34m\u001b[0m\u001b[0;34m\u001b[0m\u001b[0m\n\u001b[1;32m      6\u001b[0m     \u001b[0;31m#calc_fluxo_volta(X, y, tx_aprend, peso_ent_camada_oculta, peso_cam_oculta_saida)\u001b[0m\u001b[0;34m\u001b[0m\u001b[0;34m\u001b[0m\u001b[0m\n",
            "\u001b[0;32m<ipython-input-214-d402488ae87e>\u001b[0m in \u001b[0;36mcalc_fluxo_ida\u001b[0;34m(X, peso_ent_camada_oculta, peso_cam_oculta_saida)\u001b[0m\n\u001b[1;32m     16\u001b[0m     \u001b[0moutput_delta\u001b[0m \u001b[0;34m=\u001b[0m \u001b[0moutput_error\u001b[0m \u001b[0;34m*\u001b[0m \u001b[0msigmoid_derivative\u001b[0m\u001b[0;34m(\u001b[0m\u001b[0moutput\u001b[0m\u001b[0;34m)\u001b[0m\u001b[0;34m\u001b[0m\u001b[0;34m\u001b[0m\u001b[0m\n\u001b[1;32m     17\u001b[0m \u001b[0;34m\u001b[0m\u001b[0m\n\u001b[0;32m---> 18\u001b[0;31m     \u001b[0mhidden_error\u001b[0m \u001b[0;34m=\u001b[0m \u001b[0moutput_delta\u001b[0m\u001b[0;34m.\u001b[0m\u001b[0mdot\u001b[0m\u001b[0;34m(\u001b[0m\u001b[0mpeso_cam_oculta_saida\u001b[0m\u001b[0;34m.\u001b[0m\u001b[0mT\u001b[0m\u001b[0;34m)\u001b[0m\u001b[0;34m\u001b[0m\u001b[0;34m\u001b[0m\u001b[0m\n\u001b[0m\u001b[1;32m     19\u001b[0m     \u001b[0merro_saida\u001b[0m \u001b[0;34m=\u001b[0m \u001b[0mhidden_error\u001b[0m \u001b[0;34m*\u001b[0m \u001b[0msigmoid_derivative\u001b[0m\u001b[0;34m(\u001b[0m\u001b[0mhidden_output\u001b[0m\u001b[0;34m)\u001b[0m\u001b[0;34m\u001b[0m\u001b[0;34m\u001b[0m\u001b[0m\n\u001b[1;32m     20\u001b[0m     \u001b[0;32mif\u001b[0m \u001b[0mepoch\u001b[0m \u001b[0;34m%\u001b[0m \u001b[0;36m1000\u001b[0m \u001b[0;34m==\u001b[0m \u001b[0;36m0\u001b[0m\u001b[0;34m:\u001b[0m\u001b[0;34m\u001b[0m\u001b[0;34m\u001b[0m\u001b[0m\n",
            "\u001b[0;31mValueError\u001b[0m: shapes (4,4) and (1,3) not aligned: 4 (dim 1) != 1 (dim 0)"
          ]
        }
      ]
    },
    {
      "cell_type": "code",
      "source": [],
      "metadata": {
        "id": "zFoRtKoJKW3j"
      },
      "execution_count": null,
      "outputs": []
    },
    {
      "cell_type": "code",
      "source": [
        "print(\"Shape of output_delta:\", output_delta.shape, output_delta)\n",
        "print(\"Shape of peso_cam_oculta_saida.T:\", peso_cam_oculta_saida.T.shape, peso_cam_oculta_saida)"
      ],
      "metadata": {
        "colab": {
          "base_uri": "https://localhost:8080/"
        },
        "id": "M50wPbeuJnzp",
        "outputId": "91e9e70b-4a1e-4900-cf63-c7d877f7df32"
      },
      "execution_count": 213,
      "outputs": [
        {
          "output_type": "stream",
          "name": "stdout",
          "text": [
            "Shape of output_delta: (4, 1) [[-0.01351839]\n",
            " [ 0.00651539]\n",
            " [ 0.00651101]\n",
            " [-0.00284853]]\n",
            "Shape of peso_cam_oculta_saida.T: (1, 3) [[0.18340451]\n",
            " [0.30424224]\n",
            " [0.52475643]]\n"
          ]
        }
      ]
    }
  ]
}