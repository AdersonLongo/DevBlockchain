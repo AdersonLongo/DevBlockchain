{
  "nbformat": 4,
  "nbformat_minor": 0,
  "metadata": {
    "colab": {
      "provenance": [],
      "authorship_tag": "ABX9TyN5h0ctigyi2N0m337HWDUG",
      "include_colab_link": true
    },
    "kernelspec": {
      "name": "python3",
      "display_name": "Python 3"
    },
    "language_info": {
      "name": "python"
    }
  },
  "cells": [
    {
      "cell_type": "markdown",
      "metadata": {
        "id": "view-in-github",
        "colab_type": "text"
      },
      "source": [
        "<a href=\"https://colab.research.google.com/github/AdersonLongo/DevBlockchain/blob/main/Trab1_redes_neurais_Aderson.ipynb\" target=\"_parent\"><img src=\"https://colab.research.google.com/assets/colab-badge.svg\" alt=\"Open In Colab\"/></a>"
      ]
    },
    {
      "cell_type": "code",
      "source": [
        "import numpy as np\n",
        "\n",
        "dic_entrada = {'qtde_entrada': 2, 'qtde_saida': 1 }\n",
        "peso_ent_camada_oculta = []\n",
        "peso_cam_oculta_saida = []"
      ],
      "metadata": {
        "id": "deOFcVM0HTCv"
      },
      "execution_count": 30,
      "outputs": []
    },
    {
      "cell_type": "code",
      "source": [
        "X = [[0,0],[0,1],[1,0],[1,1]]\n",
        "y = [0, 1, 1, 0]"
      ],
      "metadata": {
        "id": "F7uphEOCNtGO"
      },
      "execution_count": 31,
      "outputs": []
    },
    {
      "cell_type": "code",
      "source": [
        "tx_aprend = float(input(print (\"Entre com taxa de aprendizagem: \")))\n",
        "nr_epocas = int(input(print (\"Entre com o número de épocas: \")))\n",
        "qtde_nos_escondidos = int(input(print (\"Entre com a qtde de nós da camada escondida: \")))"
      ],
      "metadata": {
        "colab": {
          "base_uri": "https://localhost:8080/"
        },
        "id": "RaOicnVHOJLP",
        "outputId": "48b37d4b-f019-491c-ca7d-23ce9f45bb17"
      },
      "execution_count": 32,
      "outputs": [
        {
          "name": "stdout",
          "output_type": "stream",
          "text": [
            "Entre com taxa de aprendizagem: \n",
            "None0.01\n",
            "Entre com o número de épocas: \n",
            "None10000\n",
            "Entre com a qtde de nós da camada escondida: \n",
            "None3\n"
          ]
        }
      ]
    },
    {
      "cell_type": "code",
      "execution_count": 33,
      "metadata": {
        "id": "OQa_3LhuK9i6"
      },
      "outputs": [],
      "source": [
        "def calc_func_sigmoide (x):\n",
        "\n",
        "  return 1 / (1 + np.exp(-x))\n"
      ]
    },
    {
      "cell_type": "code",
      "source": [
        "def calc_derivada_parcial (x):\n",
        "  return x * (1-x)"
      ],
      "metadata": {
        "id": "mGza50TXLcog"
      },
      "execution_count": 34,
      "outputs": []
    },
    {
      "cell_type": "code",
      "source": [
        "# Inicialização dos pesos\\n\",\n",
        "def inic_pesos(qtde_nos_escondidos, qtde_entrada, qtde_saida):\n",
        "    peso_ent_camada_oculta = np.random.rand(qtde_entrada, qtde_nos_escondidos)\n",
        "    peso_cam_oculta_saida = np.random.rand(qtde_nos_escondidos, qtde_saida)\n",
        "    peso_ent_camada_oculta = np.random.rand(qtde_entrada, qtde_nos_escondidos)\n",
        "    peso_cam_oculta_saida = np.random.rand(qtde_nos_escondidos, qtde_saida)\n",
        "    return peso_ent_camada_oculta, peso_cam_oculta_saida"
      ],
      "metadata": {
        "id": "VelDEZ2WPuYc"
      },
      "execution_count": 35,
      "outputs": []
    },
    {
      "cell_type": "code",
      "source": [
        "qtd_ent = dic_entrada['qtde_entrada']\n",
        "qtd_saida = dic_entrada['qtde_saida']\n",
        "type(qtd_saida)\n",
        "peso_ent_camada_oculta, peso_cam_oculta_saida = inic_pesos(qtde_nos_escondidos, qtd_ent, qtd_saida)\n",
        "#print (peso_ent_camada_oculta, peso_cam_oculta_saida)"
      ],
      "metadata": {
        "id": "Sa1nlX9wqNtC"
      },
      "execution_count": 36,
      "outputs": []
    },
    {
      "cell_type": "code",
      "source": [
        "def calc_back(X, peso_ent_camada_oculta, peso_cam_oculta_saida, output):\n",
        "    # Backpropagation\n",
        "    output_error = y - output\n",
        "    output_delta = output_error * calc_derivada_parcial(output)\n",
        "\n",
        "    hidden_error = output_delta.dot(peso_cam_oculta_saida.T)\n",
        "    erro_saida = hidden_error * calc_derivada_parcial(hidden_output)\n",
        "    if epoch % 1000 == 0:\n",
        "        print(f'Error: {np.mean(np.abs(y - output)):.4f}')\n",
        "\n",
        "    # Atualizando os pesos da camada de saída\n",
        "    delta_output = output_error * calc_derivada_parcial(output)\n",
        "    peso_cam_oculta_saida += np.dot(hidden_output.T, delta_output) * learning_rate\n",
        "\n",
        "    # Calculando o erro na camada oculta\n",
        "    hidden_error = np.dot(delta_output, peso_cam_oculta_saida.T)\n",
        "\n",
        "    # Atualizando os pesos da camada oculta\n",
        "    delta_hidden = hidden_error * calc_derivada_parcial(hidden_output)\n",
        "    peso_ent_camada_oculta += np.dot(X.T, delta_hidden) * learning_rate\n"
      ],
      "metadata": {
        "id": "-qGiOG_bouEC"
      },
      "execution_count": 18,
      "outputs": []
    },
    {
      "cell_type": "code",
      "source": [
        "def calc_fluxo_ida(X, peso_ent_camada_oculta, peso_cam_oculta_saida):\n",
        "    # Camada oculta\n",
        "    # Calcula para cada nó o\n",
        "    hidden_input = np.dot(X, peso_ent_camada_oculta)\n",
        "    hidden_output = calc_func_sigmoide(hidden_input)\n",
        "\n",
        "    output_input = np.dot(hidden_output, peso_cam_oculta_saida) #hidden_output.T.dot(hidden_output) #np.dot(hidden_output, weights_hidden_output) #hidden_output@weights_hidden_output\n",
        "    output = calc_func_sigmoide(output_input)\n",
        "#    calc_back(X, peso_ent_camada_oculta, peso_cam_oculta_saida, output)\n",
        "#    saida = [output, hidden_output]\n",
        "#    return saida\n",
        "\n",
        "#def calc_back(X, peso_ent_camada_oculta, peso_cam_oculta_saida, output):\n",
        "    # Backpropagation\n",
        "    output_error = y - output\n",
        "    output_delta = output_error * calc_derivada_parcial(output)\n",
        "\n",
        "    hidden_error = output_delta.dot(peso_cam_oculta_saida.T)\n",
        "    erro_saida = hidden_error * calc_derivada_parcial(hidden_output)\n",
        "    if epoch % 1000 == 0:\n",
        "        print(f'Error: {np.mean(np.abs(y - output)):.4f}')\n",
        "\n",
        "    # Atualizando os pesos da camada de saída\n",
        "    delta_output = output_error * calc_derivada_parcial(output)\n",
        "    peso_cam_oculta_saida += np.dot(hidden_output.T, delta_output) * tx_aprend\n",
        "\n",
        "    # Calculando o erro na camada oculta\n",
        "    hidden_error = np.dot(delta_output, peso_cam_oculta_saida.T)\n",
        "\n",
        "    # Atualizando os pesos da camada oculta\n",
        "    delta_hidden = hidden_error * calc_derivada_parcial(hidden_output)\n",
        "    peso_ent_camada_oculta += np.dot(X.T, delta_hidden) * tx_aprend\n",
        "\n",
        "    saida = [output, hidden_output]\n",
        "    return saida\n"
      ],
      "metadata": {
        "id": "CC0z-qRVeJYC"
      },
      "execution_count": 22,
      "outputs": []
    },
    {
      "cell_type": "code",
      "source": [
        "\n",
        "for epoca in range(nr_epocas):\n",
        "    # Feedforward\n",
        "    hidden_input = np.dot(X, peso_ent_camada_oculta)\n",
        "    hidden_output = calc_func_sigmoide(hidden_input)\n",
        "    output_input = np.dot(hidden_output, peso_cam_oculta_saida)\n",
        "    output = calc_func_sigmoide(output_input)\n",
        "\n",
        "    # Backpropagation\n",
        "    output_error = y - output\n",
        "    output_delta = output_error * calc_derivada_parcial(output)\n",
        "\n",
        "    hidden_error = output_delta.dot(peso_cam_oculta_saida.T)\n",
        "    hidden_delta = hidden_error * calc_derivada_parcial(hidden_output)\n",
        "\n",
        "    # Atualização dos pesos\n",
        "    peso_cam_oculta_saida += hidden_output.T.dot(output_delta) * tx_aprend\n",
        "    peso_ent_camada_oculta += X.T.dot(hidden_delta) * tx_aprend\n",
        "\n",
        "    # Testando a rede neural treinada\n",
        "    hidden_layer = calc_func_sigmoide(np.dot(X, peso_ent_camada_oculta))\n",
        "    output_layer = calc_func_sigmoide(np.dot(hidden_layer, peso_cam_oculta_saida))\n",
        "\n",
        "print(\"Output da rede neural após treinamento:\")\n",
        "print(output_layer)"
      ],
      "metadata": {
        "colab": {
          "base_uri": "https://localhost:8080/",
          "height": 211
        },
        "id": "h9Nvfb_JSURD",
        "outputId": "16a88ff6-1eff-4675-c2e4-65503f4f5e93"
      },
      "execution_count": 39,
      "outputs": [
        {
          "output_type": "error",
          "ename": "ValueError",
          "evalue": "shapes (4,4) and (1,3) not aligned: 4 (dim 1) != 1 (dim 0)",
          "traceback": [
            "\u001b[0;31m---------------------------------------------------------------------------\u001b[0m",
            "\u001b[0;31mValueError\u001b[0m                                Traceback (most recent call last)",
            "\u001b[0;32m<ipython-input-39-b5a644298959>\u001b[0m in \u001b[0;36m<cell line: 1>\u001b[0;34m()\u001b[0m\n\u001b[1;32m     10\u001b[0m     \u001b[0moutput_delta\u001b[0m \u001b[0;34m=\u001b[0m \u001b[0moutput_error\u001b[0m \u001b[0;34m*\u001b[0m \u001b[0mcalc_derivada_parcial\u001b[0m\u001b[0;34m(\u001b[0m\u001b[0moutput\u001b[0m\u001b[0;34m)\u001b[0m\u001b[0;34m\u001b[0m\u001b[0;34m\u001b[0m\u001b[0m\n\u001b[1;32m     11\u001b[0m \u001b[0;34m\u001b[0m\u001b[0m\n\u001b[0;32m---> 12\u001b[0;31m     \u001b[0mhidden_error\u001b[0m \u001b[0;34m=\u001b[0m \u001b[0moutput_delta\u001b[0m\u001b[0;34m.\u001b[0m\u001b[0mdot\u001b[0m\u001b[0;34m(\u001b[0m\u001b[0mpeso_cam_oculta_saida\u001b[0m\u001b[0;34m.\u001b[0m\u001b[0mT\u001b[0m\u001b[0;34m)\u001b[0m\u001b[0;34m\u001b[0m\u001b[0;34m\u001b[0m\u001b[0m\n\u001b[0m\u001b[1;32m     13\u001b[0m     \u001b[0mhidden_delta\u001b[0m \u001b[0;34m=\u001b[0m \u001b[0mhidden_error\u001b[0m \u001b[0;34m*\u001b[0m \u001b[0mcalc_derivada_parcial\u001b[0m\u001b[0;34m(\u001b[0m\u001b[0mhidden_output\u001b[0m\u001b[0;34m)\u001b[0m\u001b[0;34m\u001b[0m\u001b[0;34m\u001b[0m\u001b[0m\n\u001b[1;32m     14\u001b[0m \u001b[0;34m\u001b[0m\u001b[0m\n",
            "\u001b[0;31mValueError\u001b[0m: shapes (4,4) and (1,3) not aligned: 4 (dim 1) != 1 (dim 0)"
          ]
        }
      ]
    },
    {
      "cell_type": "code",
      "source": [
        "# Para cada epoca, calcula o\n",
        "\n",
        "for epoca in range(nr_epocas):\n",
        "#    saida = calc_fluxo_ida(X, peso_ent_camada_oculta, peso_cam_oculta_saida)\n",
        "#    print ('saida[0]: ', saida[0])\n",
        "    #calc_fluxo_volta(X, y, tx_aprend, peso_ent_camada_oculta, peso_cam_oculta_saida)\n",
        "    # Camada oculta\n",
        "    # Calcula para cada nó o\n",
        "    hidden_input = np.dot(X, peso_ent_camada_oculta)\n",
        "    hidden_output = calc_func_sigmoide(hidden_input)\n",
        "\n",
        "    output_input = np.dot(hidden_output, peso_cam_oculta_saida) #hidden_output.T.dot(hidden_output) #np.dot(hidden_output, weights_hidden_output) #hidden_output@weights_hidden_output\n",
        "    output = calc_func_sigmoide(output_input)\n",
        "#    calc_back(X, peso_ent_camada_oculta, peso_cam_oculta_saida, output)\n",
        "#    saida = [output, hidden_output]\n",
        "#    return saida\n",
        "\n",
        "#def calc_back(X, peso_ent_camada_oculta, peso_cam_oculta_saida, output):\n",
        "    # Backpropagation\n",
        "    output_error = y - output\n",
        "    output_delta = output_error * calc_derivada_parcial(output)\n",
        "\n",
        "    hidden_error = output_delta.dot(peso_cam_oculta_saida.T)\n",
        "    erro_saida = hidden_error * calc_derivada_parcial(hidden_output)\n",
        "    if epoch % 1000 == 0:\n",
        "        print(f'Error: {np.mean(np.abs(y - output)):.4f}')\n",
        "\n",
        "    # Atualizando os pesos da camada de saída\n",
        "    delta_output = output_error * calc_derivada_parcial(output)\n",
        "    peso_cam_oculta_saida += np.dot(hidden_output.T, delta_output) * tx_aprend\n",
        "\n",
        "    # Calculando o erro na camada oculta\n",
        "    hidden_error = np.dot(delta_output, peso_cam_oculta_saida.T)\n",
        "\n",
        "    # Atualizando os pesos da camada oculta\n",
        "    delta_hidden = hidden_error * calc_derivada_parcial(hidden_output)\n",
        "    peso_ent_camada_oculta += np.dot(X.T, delta_hidden) * tx_aprend\n",
        "\n",
        "    saida = [output, hidden_output]\n",
        "    if epoca % 1000 == 0:\n",
        "        print(f'Error: {np.mean(np.abs(y - saida[0])):.4f}')\n",
        "\n",
        "print(\"Saída depois do treinamento:\")\n",
        "print(saida[0], \"\\n\")\n",
        "print (\"Pesos entre camada de entrada e ocultas: \", peso_ent_camada_oculta, \"\\n\")\n",
        "print (\"Pesos entre camadas e de saída: \", peso_cam_oculta_saida, \"\\n\")"
      ],
      "metadata": {
        "colab": {
          "base_uri": "https://localhost:8080/",
          "height": 211
        },
        "id": "vcJTZxKdhkBJ",
        "outputId": "16a7c87e-61a3-46de-e560-e6d5e4741bd2"
      },
      "execution_count": 24,
      "outputs": [
        {
          "output_type": "error",
          "ename": "ValueError",
          "evalue": "shapes (4,4) and (1,3) not aligned: 4 (dim 1) != 1 (dim 0)",
          "traceback": [
            "\u001b[0;31m---------------------------------------------------------------------------\u001b[0m",
            "\u001b[0;31mValueError\u001b[0m                                Traceback (most recent call last)",
            "\u001b[0;32m<ipython-input-24-02cd7a11883b>\u001b[0m in \u001b[0;36m<cell line: 3>\u001b[0;34m()\u001b[0m\n\u001b[1;32m     21\u001b[0m     \u001b[0moutput_delta\u001b[0m \u001b[0;34m=\u001b[0m \u001b[0moutput_error\u001b[0m \u001b[0;34m*\u001b[0m \u001b[0mcalc_derivada_parcial\u001b[0m\u001b[0;34m(\u001b[0m\u001b[0moutput\u001b[0m\u001b[0;34m)\u001b[0m\u001b[0;34m\u001b[0m\u001b[0;34m\u001b[0m\u001b[0m\n\u001b[1;32m     22\u001b[0m \u001b[0;34m\u001b[0m\u001b[0m\n\u001b[0;32m---> 23\u001b[0;31m     \u001b[0mhidden_error\u001b[0m \u001b[0;34m=\u001b[0m \u001b[0moutput_delta\u001b[0m\u001b[0;34m.\u001b[0m\u001b[0mdot\u001b[0m\u001b[0;34m(\u001b[0m\u001b[0mpeso_cam_oculta_saida\u001b[0m\u001b[0;34m.\u001b[0m\u001b[0mT\u001b[0m\u001b[0;34m)\u001b[0m\u001b[0;34m\u001b[0m\u001b[0;34m\u001b[0m\u001b[0m\n\u001b[0m\u001b[1;32m     24\u001b[0m     \u001b[0merro_saida\u001b[0m \u001b[0;34m=\u001b[0m \u001b[0mhidden_error\u001b[0m \u001b[0;34m*\u001b[0m \u001b[0mcalc_derivada_parcial\u001b[0m\u001b[0;34m(\u001b[0m\u001b[0mhidden_output\u001b[0m\u001b[0;34m)\u001b[0m\u001b[0;34m\u001b[0m\u001b[0;34m\u001b[0m\u001b[0m\n\u001b[1;32m     25\u001b[0m     \u001b[0;32mif\u001b[0m \u001b[0mepoch\u001b[0m \u001b[0;34m%\u001b[0m \u001b[0;36m1000\u001b[0m \u001b[0;34m==\u001b[0m \u001b[0;36m0\u001b[0m\u001b[0;34m:\u001b[0m\u001b[0;34m\u001b[0m\u001b[0;34m\u001b[0m\u001b[0m\n",
            "\u001b[0;31mValueError\u001b[0m: shapes (4,4) and (1,3) not aligned: 4 (dim 1) != 1 (dim 0)"
          ]
        }
      ]
    },
    {
      "cell_type": "code",
      "source": [
        "import numpy as np\n",
        "dic_entrada = {'qtde_entrada': 2, 'qtde_saida': 1 }\n",
        "print (\"qtde_entrada: \", dic_entrada['qtde_entrada'])\n",
        "\n",
        "# Função de ativação sigmoid\n",
        "def calc_func_sigmoide(x):\n",
        "  return 1 / (1 + np.exp(-x))\n",
        "\n",
        "# Função de ativação derivada para backpropagation\n",
        "def calc_derivada_parcial(x):\n",
        "  return x * (1-x)\n",
        "\n",
        "# Função de ativação sigmoid\n",
        "#def sigmoid(x):\n",
        "#    return 1 / (1 + np.exp(-x))\n",
        "# Função de ativação derivada para backpropagation\n",
        "\n",
        "#def sigmoid_derivative(x):\n",
        "#    return x * (1 - x)\n",
        "\n",
        "# Dados de entrada e saída para o problema XOR\n",
        "X = np.array([[0, 0], [0, 1], [1, 0], [1, 1]])\n",
        "y = np.array([[0], [1], [1], [0]])\n",
        "\n",
        "# Inicialização dos pesos\n",
        "tx_aprend = float(input(print (\"Entre com taxa de aprendizagem: \")))\n",
        "nr_epocas = int(input(print (\"Entre com o número de épocas: \")))\n",
        "qtde_nos_escondidos = int(input(print (\"Entre com a qtde de nós da camada escondida: \")))\n",
        "\n",
        "np.random.seed(42)\n",
        "#qtde_entrada = 2\n",
        "#qtde_nos_escondidos = 3\n",
        "#qtde_saida = 1\n",
        "\n",
        "peso_ent_camada_oculta = np.random.rand(dic_entrada['qtde_entrada'], qtde_nos_escondidos)\n",
        "peso_cam_oculta_saida = np.random.rand(qtde_nos_escondidos, dic_entrada['qtde_saida'])\n",
        "\n",
        "for epoca in range(nr_epocas):\n",
        "    # Feedforward\n",
        "    hidden_input = np.dot(X, peso_ent_camada_oculta)\n",
        "    hidden_output = calc_func_sigmoide(hidden_input)\n",
        "    output_input = np.dot(hidden_output, peso_cam_oculta_saida)\n",
        "    output = calc_func_sigmoide(output_input)\n",
        "\n",
        "    # Backpropagation\n",
        "    output_error = y - output\n",
        "    output_delta = output_error * calc_derivada_parcial(output)\n",
        "\n",
        "    hidden_error = output_delta.dot(peso_cam_oculta_saida.T)\n",
        "    hidden_delta = hidden_error * calc_derivada_parcial(hidden_output)\n",
        "\n",
        "    # Atualização dos pesos\n",
        "    peso_cam_oculta_saida += hidden_output.T.dot(output_delta) * tx_aprend\n",
        "    peso_ent_camada_oculta += X.T.dot(hidden_delta) * tx_aprend\n",
        "\n",
        "# Testando a rede neural treinada\n",
        "# Utilizo a função .dot do numpy para gerar um número para o cálculo da função Sigmoide\n",
        "hidden_layer = calc_func_sigmoide(np.dot(X, peso_ent_camada_oculta))\n",
        "output_layer = calc_func_sigmoide(np.dot(hidden_layer, peso_cam_oculta_saida))\n",
        "\n",
        "print(\"Output da rede neural após treinamento:\")\n",
        "print(output_layer)\n"
      ],
      "metadata": {
        "colab": {
          "base_uri": "https://localhost:8080/"
        },
        "id": "zFoRtKoJKW3j",
        "outputId": "da9ed860-ea91-4896-c247-971caeb43c94"
      },
      "execution_count": 50,
      "outputs": [
        {
          "output_type": "stream",
          "name": "stdout",
          "text": [
            "qtde_entrada:  2\n",
            "Entre com taxa de aprendizagem: \n",
            "None0.01\n",
            "Entre com o número de épocas: \n",
            "None10000\n",
            "Entre com a qtde de nós da camada escondida: \n",
            "None3\n",
            "Output da rede neural após treinamento:\n",
            "[[0.49625702]\n",
            " [0.49349597]\n",
            " [0.51188934]\n",
            " [0.50697435]]\n"
          ]
        }
      ]
    },
    {
      "cell_type": "code",
      "source": [
        "print(\"Shape of output_delta:\", output_delta.shape, output_delta)\n",
        "print(\"Shape of peso_cam_oculta_saida.T:\", peso_cam_oculta_saida.T.shape, peso_cam_oculta_saida)"
      ],
      "metadata": {
        "id": "M50wPbeuJnzp"
      },
      "execution_count": null,
      "outputs": []
    }
  ]
}