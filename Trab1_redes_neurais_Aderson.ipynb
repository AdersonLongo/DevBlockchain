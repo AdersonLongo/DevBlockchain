{
  "nbformat": 4,
  "nbformat_minor": 0,
  "metadata": {
    "colab": {
      "provenance": [],
      "authorship_tag": "ABX9TyP/JRJhbXvrQFZOaAWmp0kX",
      "include_colab_link": true
    },
    "kernelspec": {
      "name": "python3",
      "display_name": "Python 3"
    },
    "language_info": {
      "name": "python"
    }
  },
  "cells": [
    {
      "cell_type": "markdown",
      "metadata": {
        "id": "view-in-github",
        "colab_type": "text"
      },
      "source": [
        "<a href=\"https://colab.research.google.com/github/AdersonLongo/DevBlockchain/blob/main/Trab1_redes_neurais_Aderson.ipynb\" target=\"_parent\"><img src=\"https://colab.research.google.com/assets/colab-badge.svg\" alt=\"Open In Colab\"/></a>"
      ]
    },
    {
      "cell_type": "code",
      "source": [
        "import numpy as np\n",
        "import math as mt\n"
      ],
      "metadata": {
        "id": "deOFcVM0HTCv"
      },
      "execution_count": 10,
      "outputs": []
    },
    {
      "cell_type": "code",
      "source": [
        "entrada = [[0,0],[0,1],[1,0],[1,1]]\n",
        "result_esp = [0, 1, 1, 0]"
      ],
      "metadata": {
        "id": "F7uphEOCNtGO"
      },
      "execution_count": 45,
      "outputs": []
    },
    {
      "cell_type": "code",
      "source": [
        "entrada"
      ],
      "metadata": {
        "colab": {
          "base_uri": "https://localhost:8080/"
        },
        "id": "spVkegcSN5Bk",
        "outputId": "c2826207-6bc4-496c-ed78-4a95a5910798"
      },
      "execution_count": 48,
      "outputs": [
        {
          "output_type": "execute_result",
          "data": {
            "text/plain": [
              "[[0, 0], [0, 1], [1, 0], [1, 1]]"
            ]
          },
          "metadata": {},
          "execution_count": 48
        }
      ]
    },
    {
      "cell_type": "code",
      "source": [
        "tx_aprend = input(print (\"Entre com taxa de aprendizagem: \"))\n",
        "nr_epocas = input(print (\"Entre com o número de épocas: \"))"
      ],
      "metadata": {
        "colab": {
          "base_uri": "https://localhost:8080/"
        },
        "id": "RaOicnVHOJLP",
        "outputId": "f24dd4a2-47a6-41ef-a2e5-a5ddc1817300"
      },
      "execution_count": 36,
      "outputs": [
        {
          "name": "stdout",
          "output_type": "stream",
          "text": [
            "Entre com taxa de aprendizagem: \n",
            "None0,001\n",
            "Entre com o número de épocas: \n",
            "None10\n"
          ]
        }
      ]
    },
    {
      "cell_type": "code",
      "source": [
        "tx_aprend\n"
      ],
      "metadata": {
        "colab": {
          "base_uri": "https://localhost:8080/",
          "height": 36
        },
        "id": "oICfSFAVPBZO",
        "outputId": "5332ae52-8397-45b6-954c-ddd899d79b23"
      },
      "execution_count": 35,
      "outputs": [
        {
          "output_type": "execute_result",
          "data": {
            "text/plain": [
              "'0,001'"
            ],
            "application/vnd.google.colaboratory.intrinsic+json": {
              "type": "string"
            }
          },
          "metadata": {},
          "execution_count": 35
        }
      ]
    },
    {
      "cell_type": "code",
      "execution_count": 25,
      "metadata": {
        "id": "OQa_3LhuK9i6"
      },
      "outputs": [],
      "source": [
        "def calc_func_signoide (x):\n",
        "\n",
        "  return 1 / (1 + np.exp(-x))\n"
      ]
    },
    {
      "cell_type": "code",
      "source": [
        " calc_func_signoide(3)\n",
        "\n"
      ],
      "metadata": {
        "colab": {
          "base_uri": "https://localhost:8080/"
        },
        "id": "VmOsdZ9MIoN0",
        "outputId": "abd39cbd-6ab5-4144-de1a-a54c557d36e6"
      },
      "execution_count": 29,
      "outputs": [
        {
          "output_type": "execute_result",
          "data": {
            "text/plain": [
              "0.9525741268224334"
            ]
          },
          "metadata": {},
          "execution_count": 29
        }
      ]
    },
    {
      "cell_type": "markdown",
      "source": [],
      "metadata": {
        "id": "cvPG3ovUNsk1"
      }
    },
    {
      "cell_type": "markdown",
      "source": [],
      "metadata": {
        "id": "baHzL0VlIdSF"
      }
    },
    {
      "cell_type": "code",
      "source": [
        "def calc_derivada_parcial (x):\n",
        "  return x * (1-x)"
      ],
      "metadata": {
        "id": "mGza50TXLcog"
      },
      "execution_count": 27,
      "outputs": []
    },
    {
      "cell_type": "code",
      "source": [
        "calc_derivada_parcial(calc_func_signoide(3))"
      ],
      "metadata": {
        "colab": {
          "base_uri": "https://localhost:8080/"
        },
        "id": "bnIY82ozLpHY",
        "outputId": "13e759a1-be2e-4889-9d86-de38f69bb9b9"
      },
      "execution_count": 28,
      "outputs": [
        {
          "output_type": "execute_result",
          "data": {
            "text/plain": [
              "0.045176659730912"
            ]
          },
          "metadata": {},
          "execution_count": 28
        }
      ]
    }
  ]
}