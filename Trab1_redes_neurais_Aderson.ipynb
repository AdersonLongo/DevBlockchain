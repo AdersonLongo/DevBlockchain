{
  "nbformat": 4,
  "nbformat_minor": 0,
  "metadata": {
    "colab": {
      "provenance": [],
      "authorship_tag": "ABX9TyNs7yw/tBlMEAR8O4F9Uv0J",
      "include_colab_link": true
    },
    "kernelspec": {
      "name": "python3",
      "display_name": "Python 3"
    },
    "language_info": {
      "name": "python"
    }
  },
  "cells": [
    {
      "cell_type": "markdown",
      "metadata": {
        "id": "view-in-github",
        "colab_type": "text"
      },
      "source": [
        "<a href=\"https://colab.research.google.com/github/AdersonLongo/DevBlockchain/blob/main/Trab1_redes_neurais_Aderson.ipynb\" target=\"_parent\"><img src=\"https://colab.research.google.com/assets/colab-badge.svg\" alt=\"Open In Colab\"/></a>"
      ]
    },
    {
      "cell_type": "code",
      "source": [
        "import numpy as np\n",
        "\n",
        "dic_entrada = {'qtde_entrada': 2, 'qtde_saida': 1 }\n",
        "peso_ent_camada_oculta = []\n",
        "peso_cam_oculta_saida = []\n",
        "soma_cam_oculta = [0, 0, 0, 0]"
      ],
      "metadata": {
        "id": "deOFcVM0HTCv"
      },
      "execution_count": 85,
      "outputs": []
    },
    {
      "cell_type": "code",
      "source": [
        "X = [[0,0],[0,1],[1,0],[1,1]]\n",
        "y = [0, 1, 1, 0]"
      ],
      "metadata": {
        "id": "F7uphEOCNtGO"
      },
      "execution_count": 77,
      "outputs": []
    },
    {
      "cell_type": "code",
      "source": [
        "X[0][0]"
      ],
      "metadata": {
        "colab": {
          "base_uri": "https://localhost:8080/"
        },
        "id": "MlOJHarPmgS_",
        "outputId": "e20147af-3f7c-4afa-8087-2f8b4227cf39"
      },
      "execution_count": 35,
      "outputs": [
        {
          "output_type": "execute_result",
          "data": {
            "text/plain": [
              "0"
            ]
          },
          "metadata": {},
          "execution_count": 35
        }
      ]
    },
    {
      "cell_type": "code",
      "source": [
        "tx_aprend = float(input(print (\"Entre com taxa de aprendizagem: \")))\n",
        "nr_epocas = int(input(print (\"Entre com o número de épocas: \")))\n",
        "qtde_nos_escondidos = int(input(print (\"Entre com a qtde de nós da camada escondida: \")))"
      ],
      "metadata": {
        "colab": {
          "base_uri": "https://localhost:8080/"
        },
        "id": "RaOicnVHOJLP",
        "outputId": "17418919-e84a-4cfc-fe9d-1ccdbf6d52b7"
      },
      "execution_count": 78,
      "outputs": [
        {
          "name": "stdout",
          "output_type": "stream",
          "text": [
            "Entre com taxa de aprendizagem: \n",
            "None0.01\n",
            "Entre com o número de épocas: \n",
            "None10000\n",
            "Entre com a qtde de nós da camada escondida: \n",
            "None4\n"
          ]
        }
      ]
    },
    {
      "cell_type": "code",
      "execution_count": 23,
      "metadata": {
        "id": "OQa_3LhuK9i6"
      },
      "outputs": [],
      "source": [
        "def calc_func_sigmoide (x):\n",
        "\n",
        "  return 1 / (1 + np.exp(-x))\n"
      ]
    },
    {
      "cell_type": "code",
      "source": [
        "def calc_derivada_parcial (x):\n",
        "  return x * (1-x)"
      ],
      "metadata": {
        "id": "mGza50TXLcog"
      },
      "execution_count": 24,
      "outputs": []
    },
    {
      "cell_type": "code",
      "source": [
        "# Inicialização dos pesos\\n\",\n",
        "def inic_pesos(qtde_nos_escondidos, qtde_entrada, qtde_saida):\n",
        "    peso_ent_camada_oculta = np.random.rand(qtde_entrada, qtde_nos_escondidos)\n",
        "    peso_cam_oculta_saida = np.random.rand(qtde_nos_escondidos, qtde_saida)\n",
        "    peso_ent_camada_oculta = np.random.rand(qtde_entrada, qtde_nos_escondidos)\n",
        "    peso_cam_oculta_saida = np.random.rand(qtde_nos_escondidos, qtde_saida)\n",
        "    return peso_ent_camada_oculta, peso_cam_oculta_saida"
      ],
      "metadata": {
        "id": "VelDEZ2WPuYc"
      },
      "execution_count": 79,
      "outputs": []
    },
    {
      "cell_type": "code",
      "source": [
        "qtd_ent = dic_entrada['qtde_entrada']\n",
        "qtd_saida = dic_entrada['qtde_saida']\n",
        "type(qtd_saida)\n",
        "peso_ent_camada_oculta, peso_cam_oculta_saida = inic_pesos(qtde_nos_escondidos, qtd_ent, qtd_saida)\n",
        "#print (peso_ent_camada_oculta, peso_cam_oculta_saida)"
      ],
      "metadata": {
        "id": "Sa1nlX9wqNtC"
      },
      "execution_count": 86,
      "outputs": []
    },
    {
      "cell_type": "code",
      "source": [
        "soma_cam_oculta\n"
      ],
      "metadata": {
        "colab": {
          "base_uri": "https://localhost:8080/"
        },
        "id": "oI9yIJv-sn1p",
        "outputId": "021fb386-03c0-4371-c08e-df5e32b8ca49"
      },
      "execution_count": 88,
      "outputs": [
        {
          "output_type": "execute_result",
          "data": {
            "text/plain": [
              "[0, 0, 0, 0]"
            ]
          },
          "metadata": {},
          "execution_count": 88
        }
      ]
    },
    {
      "cell_type": "code",
      "source": [
        "print ('len(X): ', len(X))\n",
        "print ('dic_entrada[qtde_entrada]: ', dic_entrada['qtde_entrada'])\n",
        "print ('qtde_nos_escondidos: ', qtde_nos_escondidos)\n",
        "print ('peso_ent_camada_oculta: ', peso_ent_camada_oculta)\n",
        "print ('soma_cam_oculta: ', soma_cam_oculta)\n",
        "for i in range(len(X)):\n",
        "    print ('loop do i = tam do X')\n",
        "    for n in range(dic_entrada['qtde_entrada']-1):\n",
        "        print ('loop do n que é a qtde de entradas')\n",
        "        soma = 0\n",
        "        for e in range(qtde_nos_escondidos):\n",
        "            print ('i: ', i)\n",
        "            print ('n: ', n)\n",
        "            print ('e: ', e)\n",
        "            print ('X [', i, '][', n, ']:', X[i][n])\n",
        "            print ('peso_ent_camada_oculta [', i, '][', e, ']:', peso_ent_camada_oculta[i][e])\n",
        "            soma += X[i][n] * peso_ent_camada_oculta[i, e]\n",
        "            print ('soma: ', soma)\n",
        "            txt = input(print (\"Digite algo \"))\n",
        "            if e+1 == qtde_nos_escondidos:\n",
        "                txt = input(print (\"Entrou no e == qtde_nos_escond / [n]\", n))\n",
        "                soma_cam_oculta[n] = soma\n",
        "                print ('soma_cam_oculta [', n, ']: ', soma_cam_oculta)"
      ],
      "metadata": {
        "colab": {
          "base_uri": "https://localhost:8080/",
          "height": 1000
        },
        "id": "4b5NgKtimUfJ",
        "outputId": "7c9a8694-af6c-4d8e-c971-13350b65842b"
      },
      "execution_count": 97,
      "outputs": [
        {
          "output_type": "stream",
          "name": "stdout",
          "text": [
            "len(X):  4\n",
            "dic_entrada[qtde_entrada]:  2\n",
            "qtde_nos_escondidos:  4\n",
            "peso_ent_camada_oculta:  [[0.9227905  0.43979658 0.24441273 0.94057898]\n",
            " [0.69167214 0.40798512 0.2361914  0.89058045]]\n",
            "soma_cam_oculta:  [0.0, 0, 0, 0]\n",
            "i:  0\n",
            "n:  0\n",
            "e:  0\n",
            "X [ 0 ][ 0 ]: 0\n",
            "peso_ent_camada_oculta [ 0 ][ 0 ]: 0.9227905044411764\n",
            "soma:  0.0\n",
            "Digite algo \n",
            "None\n",
            "i:  0\n",
            "n:  0\n",
            "e:  1\n",
            "X [ 0 ][ 0 ]: 0\n",
            "peso_ent_camada_oculta [ 0 ][ 1 ]: 0.43979658301054436\n",
            "soma:  0.0\n",
            "Digite algo \n",
            "None\n",
            "i:  0\n",
            "n:  0\n",
            "e:  2\n",
            "X [ 0 ][ 0 ]: 0\n",
            "peso_ent_camada_oculta [ 0 ][ 2 ]: 0.24441273187914814\n",
            "soma:  0.0\n",
            "Digite algo \n",
            "None\n",
            "i:  0\n",
            "n:  0\n",
            "e:  3\n",
            "X [ 0 ][ 0 ]: 0\n",
            "peso_ent_camada_oculta [ 0 ][ 3 ]: 0.9405789789288362\n",
            "soma:  0.0\n",
            "Digite algo \n",
            "None\n",
            "Entrou no e == qtde_nos_escond / [n] 0\n",
            "None\n",
            "soma_cam_oculta [ 0 ]:  [0.0, 0, 0, 0]\n",
            "i:  1\n",
            "n:  0\n",
            "e:  0\n",
            "X [ 1 ][ 0 ]: 0\n",
            "peso_ent_camada_oculta [ 1 ][ 0 ]: 0.6916721445853756\n",
            "soma:  0.0\n",
            "Digite algo \n",
            "None\n",
            "i:  1\n",
            "n:  0\n",
            "e:  1\n",
            "X [ 1 ][ 0 ]: 0\n",
            "peso_ent_camada_oculta [ 1 ][ 1 ]: 0.4079851228959315\n",
            "soma:  0.0\n",
            "Digite algo \n",
            "None\n",
            "i:  1\n",
            "n:  0\n",
            "e:  2\n",
            "X [ 1 ][ 0 ]: 0\n",
            "peso_ent_camada_oculta [ 1 ][ 2 ]: 0.23619140271921646\n",
            "soma:  0.0\n",
            "Digite algo \n",
            "None\n",
            "i:  1\n",
            "n:  0\n",
            "e:  3\n",
            "X [ 1 ][ 0 ]: 0\n",
            "peso_ent_camada_oculta [ 1 ][ 3 ]: 0.8905804466461897\n",
            "soma:  0.0\n",
            "Digite algo \n",
            "None\n",
            "Entrou no e == qtde_nos_escond / [n] 0\n",
            "None\n",
            "soma_cam_oculta [ 0 ]:  [0.0, 0, 0, 0]\n",
            "i:  2\n",
            "n:  0\n",
            "e:  0\n",
            "X [ 2 ][ 0 ]: 1\n"
          ]
        },
        {
          "output_type": "error",
          "ename": "IndexError",
          "evalue": "index 2 is out of bounds for axis 0 with size 2",
          "traceback": [
            "\u001b[0;31m---------------------------------------------------------------------------\u001b[0m",
            "\u001b[0;31mIndexError\u001b[0m                                Traceback (most recent call last)",
            "\u001b[0;32m<ipython-input-97-4f3202cb374d>\u001b[0m in \u001b[0;36m<cell line: 6>\u001b[0;34m()\u001b[0m\n\u001b[1;32m     12\u001b[0m             \u001b[0mprint\u001b[0m \u001b[0;34m(\u001b[0m\u001b[0;34m'e: '\u001b[0m\u001b[0;34m,\u001b[0m \u001b[0me\u001b[0m\u001b[0;34m)\u001b[0m\u001b[0;34m\u001b[0m\u001b[0;34m\u001b[0m\u001b[0m\n\u001b[1;32m     13\u001b[0m             \u001b[0mprint\u001b[0m \u001b[0;34m(\u001b[0m\u001b[0;34m'X ['\u001b[0m\u001b[0;34m,\u001b[0m \u001b[0mi\u001b[0m\u001b[0;34m,\u001b[0m \u001b[0;34m']['\u001b[0m\u001b[0;34m,\u001b[0m \u001b[0mn\u001b[0m\u001b[0;34m,\u001b[0m \u001b[0;34m']:'\u001b[0m\u001b[0;34m,\u001b[0m \u001b[0mX\u001b[0m\u001b[0;34m[\u001b[0m\u001b[0mi\u001b[0m\u001b[0;34m]\u001b[0m\u001b[0;34m[\u001b[0m\u001b[0mn\u001b[0m\u001b[0;34m]\u001b[0m\u001b[0;34m)\u001b[0m\u001b[0;34m\u001b[0m\u001b[0;34m\u001b[0m\u001b[0m\n\u001b[0;32m---> 14\u001b[0;31m             \u001b[0mprint\u001b[0m \u001b[0;34m(\u001b[0m\u001b[0;34m'peso_ent_camada_oculta ['\u001b[0m\u001b[0;34m,\u001b[0m \u001b[0mi\u001b[0m\u001b[0;34m,\u001b[0m \u001b[0;34m']['\u001b[0m\u001b[0;34m,\u001b[0m \u001b[0me\u001b[0m\u001b[0;34m,\u001b[0m \u001b[0;34m']:'\u001b[0m\u001b[0;34m,\u001b[0m \u001b[0mpeso_ent_camada_oculta\u001b[0m\u001b[0;34m[\u001b[0m\u001b[0mi\u001b[0m\u001b[0;34m]\u001b[0m\u001b[0;34m[\u001b[0m\u001b[0me\u001b[0m\u001b[0;34m]\u001b[0m\u001b[0;34m)\u001b[0m\u001b[0;34m\u001b[0m\u001b[0;34m\u001b[0m\u001b[0m\n\u001b[0m\u001b[1;32m     15\u001b[0m             \u001b[0msoma\u001b[0m \u001b[0;34m+=\u001b[0m \u001b[0mX\u001b[0m\u001b[0;34m[\u001b[0m\u001b[0mi\u001b[0m\u001b[0;34m]\u001b[0m\u001b[0;34m[\u001b[0m\u001b[0mn\u001b[0m\u001b[0;34m]\u001b[0m \u001b[0;34m*\u001b[0m \u001b[0mpeso_ent_camada_oculta\u001b[0m\u001b[0;34m[\u001b[0m\u001b[0mi\u001b[0m\u001b[0;34m,\u001b[0m \u001b[0me\u001b[0m\u001b[0;34m]\u001b[0m\u001b[0;34m\u001b[0m\u001b[0;34m\u001b[0m\u001b[0m\n\u001b[1;32m     16\u001b[0m             \u001b[0mprint\u001b[0m \u001b[0;34m(\u001b[0m\u001b[0;34m'soma: '\u001b[0m\u001b[0;34m,\u001b[0m \u001b[0msoma\u001b[0m\u001b[0;34m)\u001b[0m\u001b[0;34m\u001b[0m\u001b[0;34m\u001b[0m\u001b[0m\n",
            "\u001b[0;31mIndexError\u001b[0m: index 2 is out of bounds for axis 0 with size 2"
          ]
        }
      ]
    },
    {
      "cell_type": "code",
      "source": [
        "def calc_back(X, peso_ent_camada_oculta, peso_cam_oculta_saida, output):\n",
        "    # Backpropagation\n",
        "    output_error = y - output\n",
        "    output_delta = output_error * calc_derivada_parcial(output)\n",
        "\n",
        "    hidden_error = output_delta.dot(peso_cam_oculta_saida.T)\n",
        "    erro_saida = hidden_error * calc_derivada_parcial(hidden_output)\n",
        "    if epoch % 1000 == 0:\n",
        "        print(f'Error: {np.mean(np.abs(y - output)):.4f}')\n",
        "\n",
        "    # Atualizando os pesos da camada de saída\n",
        "    delta_output = output_error * calc_derivada_parcial(output)\n",
        "    peso_cam_oculta_saida += np.dot(hidden_output.T, delta_output) * learning_rate\n",
        "\n",
        "    # Calculando o erro na camada oculta\n",
        "    hidden_error = np.dot(delta_output, peso_cam_oculta_saida.T)\n",
        "\n",
        "    # Atualizando os pesos da camada oculta\n",
        "    delta_hidden = hidden_error * calc_derivada_parcial(hidden_output)\n",
        "    peso_ent_camada_oculta += np.dot(X.T, delta_hidden) * learning_rate\n"
      ],
      "metadata": {
        "id": "-qGiOG_bouEC"
      },
      "execution_count": null,
      "outputs": []
    },
    {
      "cell_type": "code",
      "source": [
        "def calc_fluxo_ida(X, peso_ent_camada_oculta, peso_cam_oculta_saida):\n",
        "    # Camada oculta\n",
        "    # Calcula para cada nó o\n",
        "    hidden_input = np.dot(X, peso_ent_camada_oculta)\n",
        "    hidden_output = calc_func_sigmoide(hidden_input)\n",
        "\n",
        "    output_input = np.dot(hidden_output, peso_cam_oculta_saida) #hidden_output.T.dot(hidden_output) #np.dot(hidden_output, weights_hidden_output) #hidden_output@weights_hidden_output\n",
        "    output = calc_func_sigmoide(output_input)\n",
        "#    calc_back(X, peso_ent_camada_oculta, peso_cam_oculta_saida, output)\n",
        "#    saida = [output, hidden_output]\n",
        "#    return saida\n",
        "\n",
        "#def calc_back(X, peso_ent_camada_oculta, peso_cam_oculta_saida, output):\n",
        "    # Backpropagation\n",
        "    output_error = y - output\n",
        "    output_delta = output_error * calc_derivada_parcial(output)\n",
        "\n",
        "    hidden_error = output_delta.dot(peso_cam_oculta_saida.T)\n",
        "    erro_saida = hidden_error * calc_derivada_parcial(hidden_output)\n",
        "    if epoch % 1000 == 0:\n",
        "        print(f'Error: {np.mean(np.abs(y - output)):.4f}')\n",
        "\n",
        "    # Atualizando os pesos da camada de saída\n",
        "    delta_output = output_error * calc_derivada_parcial(output)\n",
        "    peso_cam_oculta_saida += np.dot(hidden_output.T, delta_output) * tx_aprend\n",
        "\n",
        "    # Calculando o erro na camada oculta\n",
        "    hidden_error = np.dot(delta_output, peso_cam_oculta_saida.T)\n",
        "\n",
        "    # Atualizando os pesos da camada oculta\n",
        "    delta_hidden = hidden_error * calc_derivada_parcial(hidden_output)\n",
        "    peso_ent_camada_oculta += np.dot(X.T, delta_hidden) * tx_aprend\n",
        "\n",
        "    saida = [output, hidden_output]\n",
        "    return saida\n"
      ],
      "metadata": {
        "id": "CC0z-qRVeJYC"
      },
      "execution_count": null,
      "outputs": []
    },
    {
      "cell_type": "code",
      "source": [
        "\n",
        "for epoca in range(nr_epocas):\n",
        "    # Feedforward\n",
        "    hidden_input = np.dot(X, peso_ent_camada_oculta)\n",
        "    hidden_output = calc_func_sigmoide(hidden_input)\n",
        "    output_input = np.dot(hidden_output, peso_cam_oculta_saida)\n",
        "    output = calc_func_sigmoide(output_input)\n",
        "\n",
        "    # Backpropagation\n",
        "    output_error = y - output\n",
        "    output_delta = output_error * calc_derivada_parcial(output)\n",
        "\n",
        "    hidden_error = output_delta.dot(peso_cam_oculta_saida.T)\n",
        "    hidden_delta = hidden_error * calc_derivada_parcial(hidden_output)\n",
        "\n",
        "    # Atualização dos pesos\n",
        "    peso_cam_oculta_saida += hidden_output.T.dot(output_delta) * tx_aprend\n",
        "    peso_ent_camada_oculta += X.T.dot(hidden_delta) * tx_aprend\n",
        "\n",
        "    # Testando a rede neural treinada\n",
        "    hidden_layer = calc_func_sigmoide(np.dot(X, peso_ent_camada_oculta))\n",
        "    output_layer = calc_func_sigmoide(np.dot(hidden_layer, peso_cam_oculta_saida))\n",
        "\n",
        "print(\"Output da rede neural após treinamento:\")\n",
        "print(output_layer)"
      ],
      "metadata": {
        "colab": {
          "base_uri": "https://localhost:8080/",
          "height": 207
        },
        "id": "h9Nvfb_JSURD",
        "outputId": "4a5b8e1d-4b27-4286-9c49-12f423f8ca91"
      },
      "execution_count": null,
      "outputs": [
        {
          "output_type": "error",
          "ename": "ValueError",
          "evalue": "shapes (4,4) and (1,3) not aligned: 4 (dim 1) != 1 (dim 0)",
          "traceback": [
            "\u001b[0;31m---------------------------------------------------------------------------\u001b[0m",
            "\u001b[0;31mValueError\u001b[0m                                Traceback (most recent call last)",
            "\u001b[0;32m<ipython-input-16-351f512be53e>\u001b[0m in \u001b[0;36m<cell line: 1>\u001b[0;34m()\u001b[0m\n\u001b[1;32m     10\u001b[0m     \u001b[0moutput_delta\u001b[0m \u001b[0;34m=\u001b[0m \u001b[0moutput_error\u001b[0m \u001b[0;34m*\u001b[0m \u001b[0mcalc_derivada_parcial\u001b[0m\u001b[0;34m(\u001b[0m\u001b[0moutput\u001b[0m\u001b[0;34m)\u001b[0m\u001b[0;34m\u001b[0m\u001b[0;34m\u001b[0m\u001b[0m\n\u001b[1;32m     11\u001b[0m \u001b[0;34m\u001b[0m\u001b[0m\n\u001b[0;32m---> 12\u001b[0;31m     \u001b[0mhidden_error\u001b[0m \u001b[0;34m=\u001b[0m \u001b[0moutput_delta\u001b[0m\u001b[0;34m.\u001b[0m\u001b[0mdot\u001b[0m\u001b[0;34m(\u001b[0m\u001b[0mpeso_cam_oculta_saida\u001b[0m\u001b[0;34m.\u001b[0m\u001b[0mT\u001b[0m\u001b[0;34m)\u001b[0m\u001b[0;34m\u001b[0m\u001b[0;34m\u001b[0m\u001b[0m\n\u001b[0m\u001b[1;32m     13\u001b[0m     \u001b[0mhidden_delta\u001b[0m \u001b[0;34m=\u001b[0m \u001b[0mhidden_error\u001b[0m \u001b[0;34m*\u001b[0m \u001b[0mcalc_derivada_parcial\u001b[0m\u001b[0;34m(\u001b[0m\u001b[0mhidden_output\u001b[0m\u001b[0;34m)\u001b[0m\u001b[0;34m\u001b[0m\u001b[0;34m\u001b[0m\u001b[0m\n\u001b[1;32m     14\u001b[0m \u001b[0;34m\u001b[0m\u001b[0m\n",
            "\u001b[0;31mValueError\u001b[0m: shapes (4,4) and (1,3) not aligned: 4 (dim 1) != 1 (dim 0)"
          ]
        }
      ]
    },
    {
      "cell_type": "code",
      "source": [
        "# Para cada epoca, calcula o\n",
        "\n",
        "for epoca in range(nr_epocas):\n",
        "#    saida = calc_fluxo_ida(X, peso_ent_camada_oculta, peso_cam_oculta_saida)\n",
        "#    print ('saida[0]: ', saida[0])\n",
        "    #calc_fluxo_volta(X, y, tx_aprend, peso_ent_camada_oculta, peso_cam_oculta_saida)\n",
        "    # Camada oculta\n",
        "    # Calcula para cada nó o\n",
        "    hidden_input = np.dot(X, peso_ent_camada_oculta)\n",
        "    hidden_output = calc_func_sigmoide(hidden_input)\n",
        "\n",
        "    output_input = np.dot(hidden_output, peso_cam_oculta_saida) #hidden_output.T.dot(hidden_output) #np.dot(hidden_output, weights_hidden_output) #hidden_output@weights_hidden_output\n",
        "    output = calc_func_sigmoide(output_input)\n",
        "\n",
        "#    calc_back(X, peso_ent_camada_oculta, peso_cam_oculta_saida, output)\n",
        "#    saida = [output, hidden_output]\n",
        "#    return saida\n",
        "\n",
        "#def calc_back(X, peso_ent_camada_oculta, peso_cam_oculta_saida, output):\n",
        "    # Backpropagation\n",
        "    output_error = y - output\n",
        "    output_delta = output_error * calc_derivada_parcial(output)\n",
        "\n",
        "    hidden_error = output_delta.dot(peso_cam_oculta_saida.T)\n",
        "    erro_saida = hidden_error * calc_derivada_parcial(hidden_output)\n",
        "    if epoch % 1000 == 0:\n",
        "        print(f'Error: {np.mean(np.abs(y - output)):.4f}')\n",
        "\n",
        "    # Atualizando os pesos da camada de saída\n",
        "    delta_output = output_error * calc_derivada_parcial(output)\n",
        "    peso_cam_oculta_saida += np.dot(hidden_output.T, delta_output) * tx_aprend\n",
        "\n",
        "    # Calculando o erro na camada oculta\n",
        "    hidden_error = np.dot(delta_output, peso_cam_oculta_saida.T)\n",
        "\n",
        "    # Atualizando os pesos da camada oculta\n",
        "    delta_hidden = hidden_error * calc_derivada_parcial(hidden_output)\n",
        "    peso_ent_camada_oculta += np.dot(X.T, delta_hidden) * tx_aprend\n",
        "\n",
        "    saida = [output, hidden_output]\n",
        "    if epoca % 1000 == 0:\n",
        "        print(f'Error: {np.mean(np.abs(y - saida[0])):.4f}')\n",
        "\n",
        "print(\"Saída depois do treinamento:\")\n",
        "print(saida[0], \"\\n\")\n",
        "print (\"Pesos entre camada de entrada e ocultas: \", peso_ent_camada_oculta, \"\\n\")\n",
        "print (\"Pesos entre camadas e de saída: \", peso_cam_oculta_saida, \"\\n\")"
      ],
      "metadata": {
        "colab": {
          "base_uri": "https://localhost:8080/",
          "height": 207
        },
        "id": "vcJTZxKdhkBJ",
        "outputId": "f6b5b438-4999-4eb8-fe74-4df44dfa25f8"
      },
      "execution_count": null,
      "outputs": [
        {
          "output_type": "error",
          "ename": "ValueError",
          "evalue": "shapes (4,4) and (1,3) not aligned: 4 (dim 1) != 1 (dim 0)",
          "traceback": [
            "\u001b[0;31m---------------------------------------------------------------------------\u001b[0m",
            "\u001b[0;31mValueError\u001b[0m                                Traceback (most recent call last)",
            "\u001b[0;32m<ipython-input-17-059ce8381992>\u001b[0m in \u001b[0;36m<cell line: 3>\u001b[0;34m()\u001b[0m\n\u001b[1;32m     22\u001b[0m     \u001b[0moutput_delta\u001b[0m \u001b[0;34m=\u001b[0m \u001b[0moutput_error\u001b[0m \u001b[0;34m*\u001b[0m \u001b[0mcalc_derivada_parcial\u001b[0m\u001b[0;34m(\u001b[0m\u001b[0moutput\u001b[0m\u001b[0;34m)\u001b[0m\u001b[0;34m\u001b[0m\u001b[0;34m\u001b[0m\u001b[0m\n\u001b[1;32m     23\u001b[0m \u001b[0;34m\u001b[0m\u001b[0m\n\u001b[0;32m---> 24\u001b[0;31m     \u001b[0mhidden_error\u001b[0m \u001b[0;34m=\u001b[0m \u001b[0moutput_delta\u001b[0m\u001b[0;34m.\u001b[0m\u001b[0mdot\u001b[0m\u001b[0;34m(\u001b[0m\u001b[0mpeso_cam_oculta_saida\u001b[0m\u001b[0;34m.\u001b[0m\u001b[0mT\u001b[0m\u001b[0;34m)\u001b[0m\u001b[0;34m\u001b[0m\u001b[0;34m\u001b[0m\u001b[0m\n\u001b[0m\u001b[1;32m     25\u001b[0m     \u001b[0merro_saida\u001b[0m \u001b[0;34m=\u001b[0m \u001b[0mhidden_error\u001b[0m \u001b[0;34m*\u001b[0m \u001b[0mcalc_derivada_parcial\u001b[0m\u001b[0;34m(\u001b[0m\u001b[0mhidden_output\u001b[0m\u001b[0;34m)\u001b[0m\u001b[0;34m\u001b[0m\u001b[0;34m\u001b[0m\u001b[0m\n\u001b[1;32m     26\u001b[0m     \u001b[0;32mif\u001b[0m \u001b[0mepoch\u001b[0m \u001b[0;34m%\u001b[0m \u001b[0;36m1000\u001b[0m \u001b[0;34m==\u001b[0m \u001b[0;36m0\u001b[0m\u001b[0;34m:\u001b[0m\u001b[0;34m\u001b[0m\u001b[0;34m\u001b[0m\u001b[0m\n",
            "\u001b[0;31mValueError\u001b[0m: shapes (4,4) and (1,3) not aligned: 4 (dim 1) != 1 (dim 0)"
          ]
        }
      ]
    },
    {
      "cell_type": "markdown",
      "source": [
        "Foi considerada a seguinte sequência de passos:\n",
        "![Passos calculo.png](data:image/png;base64,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)\n",
        "\n",
        "![image.png](\n",
        "  \n",
        ")"
      ],
      "metadata": {
        "id": "T3Kbu7GzN7Th"
      }
    },
    {
      "cell_type": "markdown",
      "source": [
        "\n",
        "Os dados de entrada são passados pela rede, primeiro multiplicando pelos pesos da camada de entrada para a oculta e aplicando a função de ativação sigmoid, e depois multiplicando pelos pesos da camada oculta para a saída e aplicando novamente a função de ativação sigmoid."
      ],
      "metadata": {
        "id": "jYXdPfGElPIz"
      }
    },
    {
      "cell_type": "code",
      "source": [
        "import numpy as np\n",
        "dic_entrada = {'qtde_entrada': 2, 'qtde_saida': 1 }\n",
        "print (\"qtde_entrada: \", dic_entrada['qtde_entrada'])\n",
        "\n",
        "# Função de ativação sigmoide\n",
        "def calc_func_sigmoide(x):\n",
        "  return 1 / (1 + np.exp(-x))\n",
        "\n",
        "# Função de derivada para a direção de atualização dos pesos\n",
        "def calc_derivada_parcial(x):\n",
        "  return x * (1-x)\n",
        "\n",
        "# Funçao Soma\n",
        "def Soma(X ):\n",
        "\n",
        "  print ('len(X): ', len(X))\n",
        "  print ('dic_entrada[qtde_entrada]: ', dic_entrada['qtde_entrada'])\n",
        "  print ('qtde_nos_escondidos: ', qtde_nos_escondidos)\n",
        "  for i in range(len(X)):\n",
        "      print ('i: ', i)\n",
        "      for n in range(qtde_nos_escondidos):\n",
        "          soma = 0\n",
        "          print ('n: ', n)\n",
        "          tx_aprend = input(print (\"Digite algo \"))\n",
        "          for e in range(dic_entrada['qtde_entrada']):\n",
        "              print ('e: ', e)\n",
        "              soma += X[i][n] * peso_ent_camada_oculta[i, n]\n",
        "              print ('soma: ', soma)\n",
        "              print ('n: ', n)\n",
        "\n",
        "\n",
        "# Dados de entrada e saída para o problema XOR\n",
        "X = np.array([[0, 0], [0, 1], [1, 0], [1, 1]])\n",
        "y = np.array([[0], [1], [1], [0]])\n",
        "\n",
        "# Inicialização dos pesos\n",
        "tx_aprend = float(input(print (\"Entre com taxa de aprendizagem: \")))\n",
        "nr_epocas = int(input(print (\"Entre com o número de épocas: \")))\n",
        "qtde_nos_escondidos = int(input(print (\"Entre com a qtde de nós da camada escondida: \")))\n",
        "\n",
        "# Peso entre as entradas e a camada oculta\n",
        "peso_ent_camada_oculta = np.random.rand(dic_entrada['qtde_entrada'], qtde_nos_escondidos)\n",
        "# Peso entre a camada oculta e a saída\n",
        "peso_cam_oculta_saida = np.random.rand(qtde_nos_escondidos, dic_entrada['qtde_saida'])\n",
        "\n",
        "# Para cada epoca\n",
        "for epoca in range(nr_epocas):\n",
        "\n",
        "    # Calcula soma da camada de entrada\n",
        "    vet_soma = Soma(X)\n",
        "\n",
        "    # Calcula a função sigmoide para a camada oculta\n",
        "    vetor_ent_sigmoide = np.dot(X, peso_ent_camada_oculta)\n",
        "    #print ('vetor_ent_sigmoide: ', vetor_ent_sigmoide)\n",
        "    vetor_saida_sigmoide = calc_func_sigmoide(vetor_ent_sigmoide)\n",
        "    #print ('vetor_saida_sigmoide: ', vetor_saida_sigmoide)\n",
        "\n",
        "    # Utiliza a função .dot do numpy para gerar um número para o cálculo da função Sigmoide\n",
        "    entrada_func_sig = np.dot(vetor_saida_sigmoide, peso_cam_oculta_saida)\n",
        "    vet_resultado_sigmoide = calc_func_sigmoide(entrada_func_sig)\n",
        "    #print (\"Resultado: \", vet_resultado_sigmoide)\n",
        "\n",
        "    # Calcula o erro entre o resultado esperado e o resultado obtido\n",
        "    erro = y - vet_resultado_sigmoide\n",
        "    #print (\"erro: \", erro)\n",
        "\n",
        "    saida = vet_resultado_sigmoide\n",
        "    # Imprime o valor do erro ao longo do treinamento a cada 1000\n",
        "    if epoca % 1000 == 0:\n",
        "        print(f'Valor do erro: {np.mean(np.abs(y - vet_resultado_sigmoide)):.4f}')\n",
        "\n",
        "    # Calcula o parametro Delta considerando a camada de saída\n",
        "    param_delta_saida = erro * calc_derivada_parcial(vet_resultado_sigmoide)\n",
        "    #print (\"param_delta_saida: \", param_delta_saida)\n",
        "\n",
        "    # Utilizo a função .dot do numpy para gerar um número para o cálculo da função Sigmoide para o cálculo do delta da camada oculta\n",
        "    erro_cam_oculta = param_delta_saida.dot(peso_cam_oculta_saida.T)\n",
        "    #print ('erro_cam_oculta:', erro_cam_oculta)\n",
        "\n",
        "    # Calcula o parametro Delta considerando a camada oculta\n",
        "    param_delta_oculta = np.matmul(erro_cam_oculta, calc_derivada_parcial(vetor_saida_sigmoide))    #hidden_error * calc_derivada_parcial(vetor_saida_sigmoide)\n",
        "    #print ('param_delta_oculta:', param_delta_oculta)\n",
        "\n",
        "    # Atualização dos pesos com Recalcula os pesos de acordo com o resultado da função delta que indica a direção de ajuste dos pesos (delta)\n",
        "    peso_cam_oculta_saida += vetor_saida_sigmoide.T.dot(param_delta_saida) * tx_aprend\n",
        "    peso_ent_camada_oculta += X.T.dot(param_delta_oculta) * tx_aprend\n",
        "\n",
        "    # Testando a rede neural treinada\n",
        "    vetor_ent_sigmoide = calc_func_sigmoide(np.dot(X, peso_ent_camada_oculta))\n",
        "    vetor_saida_sigmoide = calc_func_sigmoide(np.dot(vetor_ent_sigmoide, peso_cam_oculta_saida))\n",
        "\n",
        "print(\"Resultado da rede neural após treinamento de \", nr_epocas, \" época(s): \")\n",
        "print (vet_resultado_sigmoide)\n",
        "print (\"Peso_ent_camada_oculta: \", peso_ent_camada_oculta)\n",
        "print (\"Peso_cam_oculta_saida: \", peso_cam_oculta_saida)"
      ],
      "metadata": {
        "colab": {
          "base_uri": "https://localhost:8080/",
          "height": 905
        },
        "id": "zFoRtKoJKW3j",
        "outputId": "222631a2-0986-4285-f848-0f52e904caf8"
      },
      "execution_count": 37,
      "outputs": [
        {
          "output_type": "stream",
          "name": "stdout",
          "text": [
            "qtde_entrada:  2\n",
            "Entre com taxa de aprendizagem: \n",
            "None0.2\n",
            "Entre com o número de épocas: \n",
            "None100\n",
            "Entre com a qtde de nós da camada escondida: \n",
            "None4\n",
            "len(X):  4\n",
            "dic_entrada[qtde_entrada]:  2\n",
            "qtde_nos_escondidos:  4\n",
            "i:  0\n",
            "n:  0\n",
            "Digite algo \n",
            "None\n",
            "e:  0\n",
            "soma:  0.0\n",
            "n:  0\n",
            "e:  1\n",
            "soma:  0.0\n",
            "n:  0\n",
            "n:  1\n",
            "Digite algo \n",
            "None\n",
            "e:  0\n",
            "soma:  0.0\n",
            "n:  1\n",
            "e:  1\n",
            "soma:  0.0\n",
            "n:  1\n",
            "n:  2\n",
            "Digite algo \n",
            "None\n",
            "e:  0\n"
          ]
        },
        {
          "output_type": "error",
          "ename": "IndexError",
          "evalue": "index 2 is out of bounds for axis 0 with size 2",
          "traceback": [
            "\u001b[0;31m---------------------------------------------------------------------------\u001b[0m",
            "\u001b[0;31mIndexError\u001b[0m                                Traceback (most recent call last)",
            "\u001b[0;32m<ipython-input-37-22b7b6344f8f>\u001b[0m in \u001b[0;36m<cell line: 47>\u001b[0;34m()\u001b[0m\n\u001b[1;32m     48\u001b[0m \u001b[0;34m\u001b[0m\u001b[0m\n\u001b[1;32m     49\u001b[0m     \u001b[0;31m# Calcula soma da camada de entrada\u001b[0m\u001b[0;34m\u001b[0m\u001b[0;34m\u001b[0m\u001b[0m\n\u001b[0;32m---> 50\u001b[0;31m     \u001b[0mvet_soma\u001b[0m \u001b[0;34m=\u001b[0m \u001b[0mSoma\u001b[0m\u001b[0;34m(\u001b[0m\u001b[0mX\u001b[0m\u001b[0;34m)\u001b[0m\u001b[0;34m\u001b[0m\u001b[0;34m\u001b[0m\u001b[0m\n\u001b[0m\u001b[1;32m     51\u001b[0m \u001b[0;34m\u001b[0m\u001b[0m\n\u001b[1;32m     52\u001b[0m     \u001b[0;31m# Calcula a função sigmoide para a camada oculta\u001b[0m\u001b[0;34m\u001b[0m\u001b[0;34m\u001b[0m\u001b[0m\n",
            "\u001b[0;32m<ipython-input-37-22b7b6344f8f>\u001b[0m in \u001b[0;36mSoma\u001b[0;34m(X)\u001b[0m\n\u001b[1;32m     25\u001b[0m           \u001b[0;32mfor\u001b[0m \u001b[0me\u001b[0m \u001b[0;32min\u001b[0m \u001b[0mrange\u001b[0m\u001b[0;34m(\u001b[0m\u001b[0mdic_entrada\u001b[0m\u001b[0;34m[\u001b[0m\u001b[0;34m'qtde_entrada'\u001b[0m\u001b[0;34m]\u001b[0m\u001b[0;34m)\u001b[0m\u001b[0;34m:\u001b[0m\u001b[0;34m\u001b[0m\u001b[0;34m\u001b[0m\u001b[0m\n\u001b[1;32m     26\u001b[0m               \u001b[0mprint\u001b[0m \u001b[0;34m(\u001b[0m\u001b[0;34m'e: '\u001b[0m\u001b[0;34m,\u001b[0m \u001b[0me\u001b[0m\u001b[0;34m)\u001b[0m\u001b[0;34m\u001b[0m\u001b[0;34m\u001b[0m\u001b[0m\n\u001b[0;32m---> 27\u001b[0;31m               \u001b[0msoma\u001b[0m \u001b[0;34m+=\u001b[0m \u001b[0mX\u001b[0m\u001b[0;34m[\u001b[0m\u001b[0mi\u001b[0m\u001b[0;34m]\u001b[0m\u001b[0;34m[\u001b[0m\u001b[0mn\u001b[0m\u001b[0;34m]\u001b[0m \u001b[0;34m*\u001b[0m \u001b[0mpeso_ent_camada_oculta\u001b[0m\u001b[0;34m[\u001b[0m\u001b[0mi\u001b[0m\u001b[0;34m,\u001b[0m \u001b[0mn\u001b[0m\u001b[0;34m]\u001b[0m\u001b[0;34m\u001b[0m\u001b[0;34m\u001b[0m\u001b[0m\n\u001b[0m\u001b[1;32m     28\u001b[0m               \u001b[0mprint\u001b[0m \u001b[0;34m(\u001b[0m\u001b[0;34m'soma: '\u001b[0m\u001b[0;34m,\u001b[0m \u001b[0msoma\u001b[0m\u001b[0;34m)\u001b[0m\u001b[0;34m\u001b[0m\u001b[0;34m\u001b[0m\u001b[0m\n\u001b[1;32m     29\u001b[0m               \u001b[0mprint\u001b[0m \u001b[0;34m(\u001b[0m\u001b[0;34m'n: '\u001b[0m\u001b[0;34m,\u001b[0m \u001b[0mn\u001b[0m\u001b[0;34m)\u001b[0m\u001b[0;34m\u001b[0m\u001b[0;34m\u001b[0m\u001b[0m\n",
            "\u001b[0;31mIndexError\u001b[0m: index 2 is out of bounds for axis 0 with size 2"
          ]
        }
      ]
    },
    {
      "cell_type": "code",
      "source": [
        "print(\"Shape of output_delta:\", output_delta.shape, output_delta)\n",
        "print(\"Shape of peso_cam_oculta_saida.T:\", peso_cam_oculta_saida.T.shape, peso_cam_oculta_saida)"
      ],
      "metadata": {
        "id": "M50wPbeuJnzp"
      },
      "execution_count": null,
      "outputs": []
    }
  ]
}