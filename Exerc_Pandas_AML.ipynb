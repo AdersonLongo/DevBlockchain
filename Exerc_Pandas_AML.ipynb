{
  "nbformat": 4,
  "nbformat_minor": 0,
  "metadata": {
    "colab": {
      "provenance": [],
      "authorship_tag": "ABX9TyOvZOPPfsGn5UdSG/MiQpVw",
      "include_colab_link": true
    },
    "kernelspec": {
      "name": "python3",
      "display_name": "Python 3"
    },
    "language_info": {
      "name": "python"
    }
  },
  "cells": [
    {
      "cell_type": "markdown",
      "metadata": {
        "id": "view-in-github",
        "colab_type": "text"
      },
      "source": [
        "<a href=\"https://colab.research.google.com/github/AdersonLongo/DevBlockchain/blob/main/Exerc_Pandas_AML.ipynb\" target=\"_parent\"><img src=\"https://colab.research.google.com/assets/colab-badge.svg\" alt=\"Open In Colab\"/></a>"
      ]
    },
    {
      "cell_type": "markdown",
      "source": [
        "Para esse conjunto de exercícios vamos utilizar o conjunto de dados disponibilizado no dataset MovieLens 100k\n",
        "\n",
        "O conjunto de dados do MovieLens foi coletados pelo GroupLens Research Project na Universidade de Minnesota.\n",
        "\n",
        "Este conjunto de dados consiste em:\n",
        "\n",
        "100.000 classificações (1-5) de 943 usuários em 1.682 filmes.\n",
        "Cada usuário classificou pelo menos 20 filmes.\n",
        "O dataset está dividido em diversos arquivos. Utilizando a biblioteca Pandas, implemente funções que realizem as seguintes tarefas:\n",
        "\n",
        "Considerando os dados de avaliação dos usuários\n",
        "Cálculo da média, desvio padrão e variância para o dataset de avaliações completo (por filme);\n",
        "Cálculo de média, desvio padrão e variância para cada usuário (armazenar esses valores em novas colunas do dataset);\n",
        "Encontrar indivíduos que avaliam filmes de forma mais uniforme, i.e., avaliações estão próximo ao valor da média do indivíduo;\n",
        "Considerando os dados sobre filmes\n",
        "Criar DataFrame que contenha informações sobre filmes:\n",
        "movie id\tmovie title\trelease date\tvideo release date\tIMDb URL\tunknown\tAction\tAdventure\tAnimation\tChildren's\tComedy\tCrime\tDocumentary\tDrama\tFantasy\tFilm-Noir\tHorror\tMusical\tMystery\tRomance\tSci-Fi\tThriller\tWar\tWestern\n",
        "1\tToy Story (1995)\t01-Jan-1995\t\thttp://us.imdb.com/M/title-exact?Toy%20Story%20(1995)\t0\t0\t0\t1\t1\t1\t0\t0\t0\t0\t0\t0\t0\t0\t0\t0\t0\t0\t0\n",
        "2\tGoldenEye (1995)\t01-Jan-1995\t\thttp://us.imdb.com/M/title-exact?GoldenEye%20(1995)\t0\t1\t1\t0\t0\t0\t0\t0\t0\t0\t0\t0\t0\t0\t0\t0\t1\t0\t0\n",
        "3\tFour Rooms (1995)\t01-Jan-1995\t\thttp://us.imdb.com/M/title-exact?Four%20Rooms%20(1995)\t0\t0\t0\t0\t0\t0\t0\t0\t0\t0\t0\t0\t0\t0\t0\t0\t1\t0\t0\n",
        "...\n",
        "Identificar qual gênero de filme possui o maior número de exemplos;\n",
        "Verificar se existem dados faltando\n",
        "Criando novo dataset\n",
        "Criar novo DataFrame que condense informações sobre o gênero do filme:\n",
        "movie id\tmovie title\trelease date\tvideo release date\tIMDb URL\tgenre\n",
        "1\tToy Story (1995)\t01-Jan-1995\t\thttp://us.imdb.com/M/title-exact?Toy%20Story%20(1995)\tAnimation,Children's,Comedy\n",
        "2\tGoldenEye (1995)\t01-Jan-1995\t\thttp://us.imdb.com/M/title-exact?GoldenEye%20(1995)\tAction,Adventure,Thriller\n",
        "3\tFour Rooms (1995)\t01-Jan-1995\t\thttp://us.imdb.com/M/title-exact?Four%20Rooms%20(1995)\tThriller\n",
        "...\n",
        "Adicionar colunas que armazenem dados para o total de avaliações, a soma das avaliações, média, valor máximo (e mínimo), desvio padrão e variância;\n",
        "Mostrar filmes com maior (e menor) número de avaliações;\n",
        "Normalização é uma das tarefas mais importantes quando estamos preparando um dataset para utilizar algoritmos de Machine Learning. Implementar as seguintes estratégias de normalização:\n",
        "Normalização min-max\n",
        "Normalização pela média\n",
        "Normalização Z-score\n",
        "\n"
      ],
      "metadata": {
        "id": "WMscBdnNQ4rl"
      }
    },
    {
      "cell_type": "code",
      "source": [
        "!pip install gdown"
      ],
      "metadata": {
        "id": "rog8hWurSRh_"
      },
      "execution_count": null,
      "outputs": []
    },
    {
      "cell_type": "code",
      "execution_count": 12,
      "metadata": {
        "colab": {
          "base_uri": "https://localhost:8080/"
        },
        "id": "UUWhCddgQwnC",
        "outputId": "ab6331e6-e606-4949-e29b-7ecfd5ca08d7"
      },
      "outputs": [
        {
          "output_type": "stream",
          "name": "stdout",
          "text": [
            "              rating     timestamp\n",
            "count  100000.000000  1.000000e+05\n",
            "mean        3.529860  8.835289e+08\n",
            "std         1.125674  5.343856e+06\n",
            "min         1.000000  8.747247e+08\n",
            "25%         3.000000  8.794487e+08\n",
            "50%         4.000000  8.828269e+08\n",
            "75%         4.000000  8.882600e+08\n",
            "max         5.000000  8.932866e+08\n"
          ]
        }
      ],
      "source": [
        "# Normalização min-max\n",
        "import pandas as pd\n",
        "from sklearn.preprocessing import MinMaxScaler\n",
        "\n",
        "# Carregue o dataset MovieLens 100k em um DataFrame\n",
        "#df = pd.read_csv('/content/ml-100k/u.data', sep='\\t', names=['userID', 'itemID', 'rating', 'timestamp'])\n",
        "df = pd.read_csv('/content/u.data', sep='\\t', names=['userID', 'itemID', 'rating', 'timestamp'])\n",
        "df.head()\n",
        "\n",
        "# Imprima as estatísticas descritivas das colunas normalizadas\n",
        "print(df[['rating', 'timestamp']].describe())\n",
        "\n",
        "# Salve o dataset normalizado em um novo arquivo CSV\n",
        "df.to_csv('/content/original_data.csv', index=False)"
      ]
    },
    {
      "cell_type": "code",
      "source": [
        "# Crie um objeto MinMaxScaler\n",
        "scaler = MinMaxScaler()\n",
        "\n",
        "# Aplique a normalização min-max nas colunas 'rating' e 'timestamp'\n",
        "df[['rating', 'timestamp']] = scaler.fit_transform(df[['rating', 'timestamp']])\n",
        "df.head()\n",
        "\n",
        "# Imprima as estatísticas descritivas das colunas normalizadas\n",
        "print(df[['rating', 'timestamp']].describe())\n",
        "\n",
        "# Salve o dataset normalizado em um novo arquivo CSV\n",
        "df.to_csv('ml-100k/min_max_data.csv', index=False)"
      ],
      "metadata": {
        "id": "30MIyKIDRTx8"
      },
      "execution_count": null,
      "outputs": []
    },
    {
      "cell_type": "code",
      "source": [
        "# Calcule a média de cada coluna\n",
        "means = df[['rating', 'timestamp']].mean()\n",
        "\n",
        "# Subtraia a média de cada coluna dos valores originais\n",
        "df[['rating', 'timestamp']] -= means\n",
        "\n",
        "# Verifique se a média agora é 0 para cada coluna\n",
        "print(df[['rating', 'timestamp']].describe())\n",
        "\n",
        "# Salve o dataset normalizado em um novo arquivo CSV\n",
        "df.to_csv('ml-100k/mean_data.csv', index=False)"
      ],
      "metadata": {
        "id": "Z53CGTQaRU1O"
      },
      "execution_count": null,
      "outputs": []
    },
    {
      "cell_type": "code",
      "source": [
        "# Normalização Z-score\n",
        "import pandas as pd\n",
        "from sklearn.preprocessing import StandardScaler\n",
        "\n",
        "# Carregue o dataset MovieLens 100k em um DataFrame\n",
        "df = pd.read_csv('/content/u.data', sep='\\t', names=['userID', 'itemID', 'rating', 'timestamp'])\n",
        "\n",
        "# Verifique se a média agora é 0 e o desvio padrão é 1 para cada coluna\n",
        "print(df[['rating', 'timestamp']].describe())\n",
        "\n",
        "\n"
      ],
      "metadata": {
        "colab": {
          "base_uri": "https://localhost:8080/"
        },
        "id": "ivzS8cW4VGwi",
        "outputId": "569d9fad-95ac-4333-8654-b45115c78802"
      },
      "execution_count": 14,
      "outputs": [
        {
          "output_type": "stream",
          "name": "stdout",
          "text": [
            "              rating     timestamp\n",
            "count  100000.000000  1.000000e+05\n",
            "mean        3.529860  8.835289e+08\n",
            "std         1.125674  5.343856e+06\n",
            "min         1.000000  8.747247e+08\n",
            "25%         3.000000  8.794487e+08\n",
            "50%         4.000000  8.828269e+08\n",
            "75%         4.000000  8.882600e+08\n",
            "max         5.000000  8.932866e+08\n"
          ]
        }
      ]
    },
    {
      "cell_type": "code",
      "source": [
        "# Crie um objeto StandardScaler\n",
        "scaler = StandardScaler()\n",
        "\n",
        "# Aplique a normalização Z-score nas colunas 'rating' e 'timestamp'\n",
        "df[['rating', 'timestamp']] = scaler.fit_transform(df[['rating', 'timestamp']])\n",
        "\n",
        "# Verifique se a média agora é 0 e o desvio padrão é 1 para cada coluna\n",
        "print(df[['rating', 'timestamp']].describe())\n",
        "\n",
        "# Salve o dataset normalizado em um novo arquivo CSV\n",
        "df.to_csv('/content/normalized_data_zscore.csv', index=False)\n"
      ],
      "metadata": {
        "colab": {
          "base_uri": "https://localhost:8080/"
        },
        "id": "ypoKApGaXajU",
        "outputId": "ff2720f0-de1d-414d-ad2c-40fa450f2d70"
      },
      "execution_count": 15,
      "outputs": [
        {
          "output_type": "stream",
          "name": "stdout",
          "text": [
            "             rating     timestamp\n",
            "count  1.000000e+05  1.000000e+05\n",
            "mean  -2.242828e-16 -8.008954e-15\n",
            "std    1.000005e+00  1.000005e+00\n",
            "min   -2.247430e+00 -1.647534e+00\n",
            "25%   -4.707072e-01 -7.635240e-01\n",
            "50%    4.176542e-01 -1.313492e-01\n",
            "75%    4.176542e-01  8.853450e-01\n",
            "max    1.306016e+00  1.825991e+00\n"
          ]
        }
      ]
    },
    {
      "cell_type": "markdown",
      "source": [
        "Considerando os dados de avaliação dos usuários\n",
        "\n",
        "Cálculo da média, desvio padrão e variância para o dataset de avaliações completo (por filme);\n",
        "\n",
        "Cálculo de média, desvio padrão e variância para cada usuário (armazenar esses valores em novas colunas do dataset);\n",
        "\n",
        "Encontrar indivíduos que avaliam filmes de forma mais uniforme, i.e., avaliações estão próximo ao valor da média do indivíduo\n"
      ],
      "metadata": {
        "id": "JasmE2z2YlPk"
      }
    },
    {
      "cell_type": "code",
      "source": [
        "# Avaliação dos usuários\n",
        "import pandas as pd\n",
        "from sklearn.preprocessing import StandardScaler\n",
        "\n",
        "# Carregue o dataset MovieLens 100k em um DataFrame\n",
        "df = pd.read_csv('/content/u.data', sep='\\t', names=['userID', 'itemID', 'rating', 'timestamp'])\n",
        "\n",
        "# Cálculo da média, desvio padrão e variância para o dataset de avaliações completo (por filme);\n",
        "print(df[['rating', 'timestamp']].describe())\n"
      ],
      "metadata": {
        "colab": {
          "base_uri": "https://localhost:8080/"
        },
        "id": "6ACxCWdzYnB6",
        "outputId": "da772665-aa6c-4e8a-876d-7e94c64f6a6d"
      },
      "execution_count": 16,
      "outputs": [
        {
          "output_type": "stream",
          "name": "stdout",
          "text": [
            "              rating     timestamp\n",
            "count  100000.000000  1.000000e+05\n",
            "mean        3.529860  8.835289e+08\n",
            "std         1.125674  5.343856e+06\n",
            "min         1.000000  8.747247e+08\n",
            "25%         3.000000  8.794487e+08\n",
            "50%         4.000000  8.828269e+08\n",
            "75%         4.000000  8.882600e+08\n",
            "max         5.000000  8.932866e+08\n"
          ]
        }
      ]
    },
    {
      "cell_type": "code",
      "source": [
        "# Cálculo de média, desvio padrão e variância para cada usuário (armazenar esses valores em novas colunas do dataset);\n",
        "print(df[['userID']].describe())\n",
        "\n",
        "# Agrupe o DataFrame por 'userID'\n",
        "grouped_data = df.groupby('userID')\n",
        "\n",
        "# Calcule a média, desvio padrão e variância para cada usuário nas colunas 'rating' e 'timestamp'\n",
        "stats = grouped_data[['rating', 'timestamp']].agg(['mean', 'std', 'var'])\n",
        "\n",
        "# Renomeie as colunas para facilitar a leitura\n",
        "stats.columns = ['rating_mean', 'rating_std', 'rating_var', 'timestamp_mean', 'timestamp_std', 'timestamp_var']\n",
        "\n",
        "# Adicione as colunas de estatísticas ao DataFrame original\n",
        "df = df.merge(stats, on='userID')\n",
        "\n",
        "# Salve o dataset com as estatísticas descritivas em um novo arquivo CSV\n",
        "df.to_csv('/content/data_with_user_stats.csv', index=False)"
      ],
      "metadata": {
        "id": "U6WF4vRbh7wC"
      },
      "execution_count": null,
      "outputs": []
    },
    {
      "cell_type": "code",
      "source": [
        "def classificar_filme(rating, mean):\n",
        "    if (rating + 0,2) <= mean and (rating - 0,2) >= mean:\n",
        "        return \"bom\"\n",
        "    else:\n",
        "        return \"ruim\""
      ],
      "metadata": {
        "id": "S1IhBvClrNTa"
      },
      "execution_count": 38,
      "outputs": []
    },
    {
      "cell_type": "code",
      "source": [
        "# Encontrar indivíduos que avaliam filmes de forma mais uniforme, i.e., avaliações estão próximo ao valor da média do indivíduo\n",
        "import pandas as pd\n",
        "\n",
        "# Load the MovieLens 100k dataset into a DataFrame\n",
        "df = pd.read_csv('/content/u.data', sep='\\t', names=['userID', 'itemID', 'rating', 'timestamp'])\n",
        "\n",
        "# Calculate the average rating for each item\n",
        "avg_ratings = df.groupby('itemID')['rating'].mean().reset_index()\n",
        "\n",
        "# Rename the columns\n",
        "avg_ratings.columns = ['itemID', 'avg_rating']\n",
        "\n",
        "# Faça o merge dos DataFrames pela coluna 'itemID'\n",
        "merged_df = df.merge(avg_ratings, on='itemID')\n",
        "\n",
        "# Create a new column 'above_avg_rating' to indicate if the rating is above the average\n",
        "#merged_df['above_avg_rating'] = merged_df['rating'] > merged_df['avg_rating']\n",
        "\n",
        "# Use the already merged DataFrame to access the 'avg_rating' column\n",
        "# Adicione a coluna 'avg_rating' do DataFrame de médias ao DataFrame original\n",
        "merged_df['above_avg_rating'] = merged_df['rating'] > merged_df['avg_rating']\n",
        "merged_df\n",
        "\n",
        "# Salve o dataset com as informações de média e flag de avaliação acima da média em um novo arquivo CSV\n",
        "merged_df.to_csv('/content/data_with_above_avg_ratings.csv', index=False)\n"
      ],
      "metadata": {
        "id": "BPAXJMSxmKS9"
      },
      "execution_count": 57,
      "outputs": []
    },
    {
      "cell_type": "code",
      "source": [
        "df[\"rating\", \"mean\"].apply(classificar_filme)"
      ],
      "metadata": {
        "id": "tVdUNJWArfew"
      },
      "execution_count": null,
      "outputs": []
    }
  ]
}