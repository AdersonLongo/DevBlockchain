{
  "nbformat": 4,
  "nbformat_minor": 0,
  "metadata": {
    "colab": {
      "provenance": [],
      "authorship_tag": "ABX9TyNWkKsZMxUdi+ERDMhABUUa",
      "include_colab_link": true
    },
    "kernelspec": {
      "name": "python3",
      "display_name": "Python 3"
    },
    "language_info": {
      "name": "python"
    }
  },
  "cells": [
    {
      "cell_type": "markdown",
      "metadata": {
        "id": "view-in-github",
        "colab_type": "text"
      },
      "source": [
        "<a href=\"https://colab.research.google.com/github/AdersonLongo/DevBlockchain/blob/main/Teste_audio_Classif_som.ipynb\" target=\"_parent\"><img src=\"https://colab.research.google.com/assets/colab-badge.svg\" alt=\"Open In Colab\"/></a>"
      ]
    },
    {
      "cell_type": "code",
      "execution_count": null,
      "metadata": {
        "id": "LFoGw4d9fHpk"
      },
      "outputs": [],
      "source": [
        "def get_info(data, sample_rate):\n",
        "  _print('Canais: ', len(data.shape))\n",
        "  print('Número total de amostras: ', data.shape[0])\n",
        "  print('Duração: ', len(data) / sample_rate)\n",
        ""
      ]
    },
    {
      "cell_type": "code",
      "source": [
        "def predict_sound(arquivo_audio, info = False, plot_waveform = False, plot_spectogram = False):\n",
        "  audio, sample_rate = librosa.load(arquivo_audio, sr = None, res_type = 'kaiser_fast')\n",
        "  mfccs_features = librosa.feature.mfcc(y = audio, sr = sample_rate, n_mfcc=40)\n",
        "  mfccs_scaled_features = np.mean(mfccs_features.T, axis=0)\n",
        "  mfccs_scaled_features = mfccs_scaled_features.reshape(1,-1)\n",
        "  mfccs_scaled_features = mfccs_scaled_features[:,:,np.newaxis]\n",
        "\n",
        "  prediction = model.predict(mfccs_scaled_features)\n",
        "  prediction = prediction.argmax(axis=1)\n",
        "  prediction = prediction.astype(int).flatten()\n",
        "  prediction = labelencoder.inverse_transform((prediction))\n",
        "\n",
        "  print ('Classificacao/resultado: ', prediction)\n",
        "\n",
        "  if info:\n",
        "    get_info(audio, sample)\n",
        "\n",
        "  if plot_waveform:\n",
        "    plt.figure(figsize=(14,5))\n",
        "    plt.title('Tipo de som: ', str(prediction[0].upper(), size=16))\n",
        "    plt.xlabel('Tempo')\n",
        "    plt.ylabel('Amplitude')\n",
        "    ld.waveplot(audio, sr=sample_rate)\n",
        "\n",
        "  if plot_spectogram:\n",
        "    plt.figure(figsize=(14,5))\n",
        "    mfccs_db = librosa.amplitude_to_db(np.abs(mfccs))\n",
        "    plt.title('Tipo de som: ', str(prediction[0].upper(), size=16))\n",
        "    ld.specshow(mfccs_db, x_axis='time', y_axis='log', cmap='Spectral')\n",
        "    plt.colorbar(format='%+2.f dB')\n",
        "\n"
      ],
      "metadata": {
        "id": "wCbis_Xyyvv5"
      },
      "execution_count": null,
      "outputs": []
    }
  ]
}